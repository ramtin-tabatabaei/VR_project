{
 "cells": [
  {
   "cell_type": "code",
   "execution_count": 58,
   "id": "0656aa14-8e81-4b3b-bf2b-e2fb8f1ea992",
   "metadata": {},
   "outputs": [],
   "source": [
    "#It is a good code for recorning the video For Real"
   ]
  },
  {
   "cell_type": "code",
   "execution_count": 59,
   "id": "22511e53-1781-4b0d-ada0-31203fb3b454",
   "metadata": {},
   "outputs": [],
   "source": [
    "%matplotlib inline\n",
    "import numpy as np\n",
    "import cv2\n",
    "import random\n",
    "import datetime as dt\n",
    "import tensorflow as tf\n",
    "from collections import deque\n",
    "import matplotlib.pyplot as plt\n",
    "from tensorflow.keras.layers import *\n",
    "from tensorflow.keras.models import Sequential\n",
    "from tensorflow.keras.utils import to_categorical\n",
    "from tensorflow.keras.callbacks import EarlyStopping\n",
    "from tensorflow.keras.utils import plot_model\n",
    "import math"
   ]
  },
  {
   "cell_type": "code",
   "execution_count": 60,
   "id": "d919ad22-670b-4033-9db0-e1464ef2fe76",
   "metadata": {},
   "outputs": [],
   "source": [
    "#Parameters\n",
    "record = 1 # on=1 off=0\n",
    "namerec = \"sequence30-NTD10-K1-LSTM2\"\n",
    "radius = 20  # Radius of the circle"
   ]
  },
  {
   "cell_type": "code",
   "execution_count": 61,
   "id": "d98813f4-b607-4ab3-a5d2-c7cc6b037db9",
   "metadata": {},
   "outputs": [
    {
     "name": "stdout",
     "output_type": "stream",
     "text": [
      "Number of txt files: 11\n"
     ]
    }
   ],
   "source": [
    "import os\n",
    "\n",
    "directory = r\"F:\\Courses\\Paper\\Mine\\Paper3\\Data\"\n",
    "\n",
    "# get a list of all .txt files in the directory\n",
    "txt_files = [os.path.join(directory, f) for f in os.listdir(directory) if f.endswith('.txt')]\n",
    "\n",
    "# print the number of .txt files found\n",
    "print(\"Number of txt files:\", len(txt_files))\n",
    "\n",
    "# read the contents of each .txt file and store them in an array\n",
    "Data = np.zeros((len(txt_files),50000,4))\n",
    "for file_path in txt_files:\n",
    "    for i in range(len(txt_files)):\n",
    "        data = np.loadtxt(txt_files[i], dtype=object)\n",
    "        data = [line.split(',') for line in data]\n",
    "\n",
    "        # Convert the resulting list of lists to a NumPy array with the appropriate data types\n",
    "        data = np.array(data, dtype=np.float32)\n",
    "        #data = data.astype(np.int32)\n",
    "        A = np.zeros((50000-data.shape[0], data.shape[1]))\n",
    "        Data[i] = np.concatenate((data, A))\n"
   ]
  },
  {
   "cell_type": "code",
   "execution_count": 62,
   "id": "2ebad70a-2ba3-4bf6-b867-4dd74b9c072c",
   "metadata": {},
   "outputs": [],
   "source": [
    "import pandas as pd\n",
    "\n",
    "# Load the Excel file into a DataFrame\n",
    "df = pd.read_excel(r'F:\\Courses\\Paper\\Mine\\Paper3\\Properties.xlsx', sheet_name='Sheet1')\n",
    "\n",
    "# Select the values from row 3 and onwards\n",
    "Properties_Uni = df.values[1:]"
   ]
  },
  {
   "cell_type": "code",
   "execution_count": 63,
   "id": "b9c59e76-ffac-43ec-8f67-c96d01d47915",
   "metadata": {},
   "outputs": [],
   "source": [
    "import numpy as np\n",
    "\n",
    "# Assume the data array is already loaded into a variable named 'data'\n",
    "\n",
    "# Find the indices where the values are \"N\" or \"F\"\n",
    "idx_n = np.where(Properties_Uni == np.array([\"N\"], dtype=str))\n",
    "idx_f = np.where(Properties_Uni == np.array([\"F\"], dtype=str))\n",
    "\n",
    "# Replace \"N\" with \"1\"\n",
    "Properties_Uni[idx_n] = 1\n",
    "\n",
    "# Replace \"F\" with \"2\"\n",
    "Properties_Uni[idx_f] = 2\n"
   ]
  },
  {
   "cell_type": "code",
   "execution_count": 64,
   "id": "330f8b0f-b0ef-4da4-8b36-f85fdd841329",
   "metadata": {},
   "outputs": [],
   "source": [
    "Properties_Uni = np.array(Properties_Uni)\n",
    "Properties_Uni = Properties_Uni.astype(float)"
   ]
  },
  {
   "cell_type": "code",
   "execution_count": 65,
   "id": "6254e76d-e7e8-42bc-9217-8106d7e0ce72",
   "metadata": {},
   "outputs": [],
   "source": [
    "resulotion = 1/30\n",
    "Dim = round((Properties_Uni[-1,0]-Properties_Uni[0,0])/resulotion)\n",
    "Properties_Uni_res = np.zeros((Dim, Properties_Uni.shape[1]))\n",
    "Data_res = np.zeros((len(txt_files), Dim, Data.shape[2]))\n",
    "t0 = 5\n",
    "tf = 620.8\n",
    "t = t0\n",
    "Data_inter = np.zeros(len(txt_files),dtype=\"int\")\n",
    "Properties_Uni_inter = 0\n",
    "#for j in range(len(txt_files)):\n",
    "# for j in range(1):\n",
    "#     for i in range(Data[j].shape[0]):\n",
    "#         if Data[j,i,0] >= t0:\n",
    "#             Data_inter[j] = i - 1\n",
    "#             break\n",
    "for i in range(Dim):\n",
    "    Properties_Uni_res[i] = Properties_Uni[Properties_Uni_inter]\n",
    "    Properties_Uni_res[i,0] = t\n",
    "    if t >= Properties_Uni[Properties_Uni_inter+1,0]:\n",
    "        Properties_Uni_inter += 1\n",
    "    for j in range(len(txt_files)):\n",
    "        if Data[j,Data_inter[j]+2,0]==0:\n",
    "            continue\n",
    "        Data_res[j,i] = Data[j, Data_inter[j]]\n",
    "        Data_res[j,i,0] = t\n",
    "        while True:\n",
    "            if t >= Data[j, Data_inter[j] + 1,0]:\n",
    "                Data_inter[j] += 1\n",
    "            else:\n",
    "                break\n",
    "    \n",
    "    t += resulotion"
   ]
  },
  {
   "cell_type": "code",
   "execution_count": 66,
   "id": "c701eb35-6b1a-44c7-bcf3-c7e27dc88c97",
   "metadata": {},
   "outputs": [
    {
     "data": {
      "text/plain": [
       "array([23354, 32110, 31540, 33029, 32378, 31036, 33937, 21415, 28802,\n",
       "       31834, 30097])"
      ]
     },
     "execution_count": 66,
     "metadata": {},
     "output_type": "execute_result"
    }
   ],
   "source": [
    "Data_inter"
   ]
  },
  {
   "cell_type": "code",
   "execution_count": 67,
   "id": "a4630e47-0ee5-4950-8473-43760de0370f",
   "metadata": {},
   "outputs": [
    {
     "data": {
      "text/plain": [
       "array([305.,   1.,   1.,   4.,   1.,   0., -45.,   0.,   0.,   0.,   0.,\n",
       "         0.,   0.,   1.,   1.,   5.,   0.,   0.,  45.])"
      ]
     },
     "execution_count": 67,
     "metadata": {},
     "output_type": "execute_result"
    }
   ],
   "source": [
    "Properties_Uni_res[300*30]"
   ]
  },
  {
   "cell_type": "code",
   "execution_count": 68,
   "id": "8cf4e2a1-3492-4048-a09f-48226b3cdaa7",
   "metadata": {},
   "outputs": [
    {
     "data": {
      "text/plain": [
       "(18474, 19)"
      ]
     },
     "execution_count": 68,
     "metadata": {},
     "output_type": "execute_result"
    }
   ],
   "source": [
    "Properties_Uni_res.shape"
   ]
  },
  {
   "cell_type": "code",
   "execution_count": 69,
   "id": "9bdb6b96-15a8-4330-9de1-e6651aab0ce2",
   "metadata": {},
   "outputs": [],
   "source": [
    "# Number 1\n",
    "XBminN1 = 120 #X Body min Near\n",
    "XBmaxN1 = 160 #X Body max Near\n",
    "\n",
    "XBminF1 = 150 #X Body min Far\n",
    "XBmaxF1 = 170 #X Body max Far\n",
    "\n",
    "\n",
    "# Number 2\n",
    "XBminN2 = 160 #X Body min Near\n",
    "XBmaxN2 = 195 #X Body max Near\n",
    "\n",
    "XBminF2 = 170 #X Body min Far\n",
    "XBmaxF2 = 190 #X Body max Far\n",
    "\n",
    "\n",
    "# Number 3\n",
    "XBminN3 = 195 #X Body min Near\n",
    "XBmaxN3 = 230 #X Body max Near\n",
    "\n",
    "XBminF3 = 190 #X Body min Far\n",
    "XBmaxF3 = 220 #X Body max Far\n"
   ]
  },
  {
   "cell_type": "code",
   "execution_count": 70,
   "id": "c6a4e506-4697-4050-a3ab-53c86d4316a4",
   "metadata": {},
   "outputs": [],
   "source": [
    "Model_data = np.zeros((Data_res.shape[0]*Data_res.shape[1],Properties_Uni_res.shape[1]))\n",
    "Model_label = np.zeros((Data_res.shape[0]*Data_res.shape[1]), dtype=\"O\")\n",
    "inter = 0\n",
    "for z in range(Data_res.shape[0]):\n",
    "    for j in range(Data_res.shape[1]):\n",
    "        if Data_res[z,j,0] == 0:\n",
    "            continue\n",
    "        Model_data[inter] = Properties_Uni_res[j]\n",
    "        Model_label[inter] = \"No Data\"\n",
    "\n",
    "        P = 0 # number of person 1\n",
    "        if Properties_Uni_res[j,6*P+1] == 1: #if the person is present\n",
    "            if Properties_Uni_res[j,6*P+2] == 1: #if the person is Near or Far\n",
    "                if Properties_Uni_res[j,6*P+3] != 7: #if the person is stationary or Entering or Leaving\n",
    "                    if XBminN1<Data_res[z,j,2]<XBmaxN1: #Body\n",
    "                        Model_label[inter] = \"Number 1\"\n",
    "                            \n",
    "                elif Properties_Uni_res[j,6*P+3] == 7:  #if the person is stationary or moving\n",
    "                    if 100<Data_res[z,j,2]<XBmaxN1: #Body\n",
    "                        Model_label[inter] = \"Number 1\"\n",
    "\n",
    "                        \n",
    "            elif Properties_Uni_res[j,6*P+2] == 2: #if the person is Near or Far\n",
    "                if Properties_Uni_res[j,6*P+3] != 7: #if the person is stationary or Entering or Leaving\n",
    "                    if XBminF1<Data_res[z,j,2]<XBmaxF1: #Body\n",
    "                        Model_label[inter] = \"Number 1\"\n",
    "\n",
    "                elif Properties_Uni_res[j,6*P+3] == 7:  #if the person is stationary or moving\n",
    "                    if 100<Data_res[z,j,2]<XBmaxN1: #Body\n",
    "                        Model_label[inter] = \"Number 1\"\n",
    "\n",
    "\n",
    "        P = 1 # number of person 2\n",
    "        if Properties_Uni_res[j,6*P+1] == 1: #if the person is present\n",
    "            if Properties_Uni_res[j,6*P+2] == 1: #if the person is Near or Far\n",
    "                if Properties_Uni_res[j,6*P+3] != 7: #if the person is stationary or Entering or Leaving\n",
    "                    if XBminN2<Data_res[z,j,2]<XBmaxN2: #Body\n",
    "                        Model_label[inter] = \"Number 2\"\n",
    "                            \n",
    "                elif Properties_Uni_res[j,6*P+3] == 7:  #if the person is stationary or moving\n",
    "                    if Properties_Uni_res[j,6*P+6] <=0:  #if the person is leaving or entering from left side\n",
    "                        if 100<Data_res[z,j,2]<180: #Body\n",
    "                            Model_label[inter] = \"Number 2\"\n",
    "                    elif Properties_Uni_res[j,6*P+6] >=0:  #if the person is leaving or entering from left side\n",
    "                        if 180<Data_res[z,j,2]<250: #Body\n",
    "                            Model_label[inter] = \"Number 2\"\n",
    "                            \n",
    "\n",
    "            elif Properties_Uni_res[j,6*P+2] == 2: #if the person is Near or Far\n",
    "                if Properties_Uni_res[j,6*P+3] != 7: #if the person is stationary or Entering or Leaving\n",
    "                    if XBminF2<Data_res[z,j,2]<XBmaxF2: #Body\n",
    "                        Model_label[inter] = \"Number 2\"\n",
    "\n",
    "                            \n",
    "                elif Properties_Uni_res[j,6*P+3] == 7:  #if the person is stationary or moving\n",
    "                    if Properties_Uni_res[j,6*P+6] <=0:  #if the person is leaving or entering from left side\n",
    "                        if 100<Data_res[z,j,2]<180: #Body\n",
    "                            Model_label[inter] = \"Number 2\"\n",
    "                    elif Properties_Uni_res[j,6*P+6] >=0:  #if the person is leaving or entering from left side\n",
    "                        if 180<Data_res[z,j,2]<250: #Body\n",
    "                            Model_label[inter] = \"Number 2\"\n",
    "                            \n",
    "\n",
    "        P = 2 # number of person 3\n",
    "        if Properties_Uni_res[j,6*P+1] == 1: #if the person is present\n",
    "            if Properties_Uni_res[j,6*P+2] == 1: #if the person is Near or Far\n",
    "                if Properties_Uni_res[j,6*P+3] != 7: #if the person is stationary or Entering or Leaving\n",
    "                    if XBminN3<Data_res[z,j,2]<XBmaxN3: #Body\n",
    "                        Model_label[inter] = \"Number 3\"\n",
    "                            \n",
    "                elif Properties_Uni_res[j,6*P+3] == 7:  #if the person is stationary or moving\n",
    "                    if XBminN3<Data_res[z,j,2]<250: #Body\n",
    "                        Model_label[inter] = \"Number 3\"\n",
    "\n",
    "            elif Properties_Uni_res[j,6*P+2] == 2: #if the person is Near or Far\n",
    "                if Properties_Uni_res[j,6*P+3] != 7: #if the person is stationary or Entering or Leaving\n",
    "                    if XBminF3<Data_res[z,j,2]<XBmaxF3: #Body\n",
    "                        Model_label[inter] = \"Number 3\"\n",
    "                        \n",
    "                elif Properties_Uni_res[j,6*P+3] == 7:  #if the person is stationary or moving\n",
    "                        if XBminF3<Data_res[z,j,2]<250: #Body\n",
    "                            Model_label[inter] = \"Number 3\"\n",
    "        inter +=1"
   ]
  },
  {
   "cell_type": "code",
   "execution_count": 71,
   "id": "fe590120-3821-498f-bc02-6a1e43d40fcc",
   "metadata": {},
   "outputs": [],
   "source": [
    "Model_data = np.array(Model_data[0:inter])\n",
    "Model_label = np.array(Model_label[0:inter])"
   ]
  },
  {
   "cell_type": "code",
   "execution_count": 72,
   "id": "3736a9df-6e79-47a9-aac8-bc80761f6b25",
   "metadata": {},
   "outputs": [
    {
     "data": {
      "text/plain": [
       "(196873, 19)"
      ]
     },
     "execution_count": 72,
     "metadata": {},
     "output_type": "execute_result"
    }
   ],
   "source": [
    "Model_data.shape"
   ]
  },
  {
   "cell_type": "code",
   "execution_count": 73,
   "id": "6bb22292-d1d2-4338-80ed-006ea407e5c5",
   "metadata": {},
   "outputs": [],
   "source": [
    "from sklearn.preprocessing import StandardScaler\n",
    "\n",
    "scaler = StandardScaler()\n",
    "scaler = scaler.fit(Model_data)\n",
    "Model_data_normal = scaler.transform(Model_data)  #scale the data\n",
    "\n",
    "Model_data_normal = np.delete(Model_data_normal, 0, axis=1)"
   ]
  },
  {
   "cell_type": "code",
   "execution_count": 74,
   "id": "125030e2-f895-4e90-b151-1856a7589e3f",
   "metadata": {},
   "outputs": [
    {
     "data": {
      "text/plain": [
       "(196873, 18)"
      ]
     },
     "execution_count": 74,
     "metadata": {},
     "output_type": "execute_result"
    }
   ],
   "source": [
    "Model_data_normal.shape"
   ]
  },
  {
   "cell_type": "code",
   "execution_count": 75,
   "id": "983a20f3-6e20-4620-8087-e93f4c99f203",
   "metadata": {},
   "outputs": [],
   "source": [
    "def Labell(String):\n",
    "    if String == \"Number 1\":\n",
    "        return 0\n",
    "    elif String == \"Number 2\":\n",
    "        return 1\n",
    "    elif String == \"Number 3\":\n",
    "        return 2"
   ]
  },
  {
   "cell_type": "code",
   "execution_count": 76,
   "id": "7332a26c-0f00-43ea-9482-285d4afee554",
   "metadata": {},
   "outputs": [],
   "source": [
    "Persons_inter = np.zeros(len(txt_files))\n",
    "inter = 0\n",
    "for i in range(Model_data.shape[0]):\n",
    "    if Model_data[i, 0] == 5:\n",
    "        Persons_inter[inter] = i\n",
    "        inter += 1"
   ]
  },
  {
   "cell_type": "code",
   "execution_count": 77,
   "id": "5625e353-b8ee-4268-8446-2b282c89036a",
   "metadata": {},
   "outputs": [
    {
     "data": {
      "text/plain": [
       "array([     0.,  12133.,  30607.,  49081.,  67555.,  86029., 104503.,\n",
       "       122977., 141451., 159925., 178399.])"
      ]
     },
     "execution_count": 77,
     "metadata": {},
     "output_type": "execute_result"
    }
   ],
   "source": [
    "Persons_inter"
   ]
  },
  {
   "cell_type": "code",
   "execution_count": 78,
   "id": "8ecbe4e2-fb3f-4748-8379-d8193a58a45e",
   "metadata": {},
   "outputs": [],
   "source": [
    "mean = [ 3.06370221e+02,  8.22692802e-01,  1.22970646e+00,  3.93117390e+00,\n",
    "  3.08086939e-01,  6.65301997e-02, -3.18157899e+01,  8.02654503e-01,\n",
    "  1.19513595e+00,  3.76530555e+00,  2.83873360e-01,  1.62993402e-01,\n",
    " -3.84537240e-01,  8.15886384e-01,  1.22237178e+00,  3.61190209e+00,\n",
    "  2.47362513e-01,  7.50483814e-02,  3.12343744e+01]\n",
    "std = [176.46310571,   0.38192847,   0.72907873,   2.76399406,   0.46170269,\n",
    "   0.24920661,  17.24564431 ,  0.39799529,   0.74279802,   2.72532234,\n",
    "   0.45087612,   0.3935287,   10.19257654,   0.38757682,   0.73562885,\n",
    "   2.63930238,   0.4314792,    0.29356123,  17.34610596]\n"
   ]
  },
  {
   "cell_type": "code",
   "execution_count": 79,
   "id": "216f17af-5d21-4dcd-a5a9-fef90f11e217",
   "metadata": {},
   "outputs": [
    {
     "data": {
      "text/plain": [
       "array([  5.03333333,   1.        ,   1.        ,   7.        ,\n",
       "         0.        ,   0.        , -75.        ,   1.        ,\n",
       "         2.        ,   7.        ,   0.        ,   0.        ,\n",
       "        60.        ,   0.        ,   0.        ,   0.        ,\n",
       "         0.        ,   0.        ,   0.        ])"
      ]
     },
     "execution_count": 79,
     "metadata": {},
     "output_type": "execute_result"
    }
   ],
   "source": [
    "Properties_Uni_res[1]"
   ]
  },
  {
   "cell_type": "code",
   "execution_count": 80,
   "id": "89309a06-e8ec-4246-81ba-d90f520402aa",
   "metadata": {},
   "outputs": [
    {
     "name": "stdout",
     "output_type": "stream",
     "text": [
      "[[ 1.  1.  7. ...  0.  0.  0.]\n",
      " [ 1.  1.  7. ...  0.  0.  0.]\n",
      " [ 1.  1.  7. ...  0.  0.  0.]\n",
      " ...\n",
      " [ 0.  0.  0. ...  0.  0. 75.]\n",
      " [ 0.  0.  0. ...  0.  0. 75.]\n",
      " [ 0.  0.  0. ...  0.  0. 75.]]\n"
     ]
    }
   ],
   "source": [
    "#Properties_Normal_res = np.array((Properties_Uni_res-mean)/std)\n",
    "Properties_Normal_res = np.array(Properties_Uni_res)\n",
    "Properties_res = np.array(Properties_Uni_res[:,1:19])\n",
    "print(Properties_res)\n",
    "Properties_Normal_res = np.array(Properties_Normal_res[:,1:19])"
   ]
  },
  {
   "cell_type": "code",
   "execution_count": 81,
   "id": "2a0917c3-4baa-4bd8-8059-7f7bb7cdcfdd",
   "metadata": {},
   "outputs": [
    {
     "data": {
      "text/plain": [
       "array([  1.,   1.,   5.,   1.,   1., -45.,   1.,   1.,   8.,   0.,   0.,\n",
       "         0.,   1.,   2.,   1.,   0.,   0.,  30.])"
      ]
     },
     "execution_count": 81,
     "metadata": {},
     "output_type": "execute_result"
    }
   ],
   "source": [
    "Properties_Normal_res[80*30]"
   ]
  },
  {
   "cell_type": "code",
   "execution_count": 82,
   "id": "161ba44f-9042-495b-85be-b3a447fa6baf",
   "metadata": {},
   "outputs": [],
   "source": [
    "sequence = 30\n",
    "Model_data_normal_sequence = np.zeros((Properties_Normal_res.shape[0],sequence,Properties_Normal_res.shape[1]),dtype='float')\n",
    "inter = 0\n",
    "for i in range(Model_data_normal_sequence.shape[0]-sequence):\n",
    "    for j in range(sequence):\n",
    "        Model_data_normal_sequence[inter,j] = Properties_Normal_res[i+j]\n",
    "    inter += 1\n",
    "        \n",
    "Model_data_normal_sequence = np.array(Model_data_normal_sequence[0:inter])"
   ]
  },
  {
   "cell_type": "code",
   "execution_count": 83,
   "id": "14b9705d-bb05-4b4c-a47e-34ab8ec5b4b4",
   "metadata": {},
   "outputs": [],
   "source": [
    "import tensorflow as tf\n",
    "from tensorflow import keras\n",
    "import h5py\n",
    "\n",
    "# Load the model from the HDF5 file\n",
    "#loaded_model = keras.models.load_model(r'F:\\Courses\\Paper\\Mine\\Paper3\\Results\\LSTM-K3-TTP0.8-sequence30 (1).h5')\n",
    "loaded_model1 = keras.models.load_model(r'F:\\Courses\\Paper\\Mine\\Paper3\\Results new\\Model\\LSTM-K1-K_max10-sequence30-delta1.h5')\n",
    "loaded_model2 = keras.models.load_model(r'F:\\Courses\\Paper\\Mine\\Paper3\\Results new\\Model\\LSTM-K2-K_max10-sequence30-delta1.h5')\n",
    "loaded_model3 = keras.models.load_model(r'F:\\Courses\\Paper\\Mine\\Paper3\\Results new\\Model\\LSTM-K3-K_max10-sequence30-delta1.h5')\n",
    "loaded_model4 = keras.models.load_model(r'F:\\Courses\\Paper\\Mine\\Paper3\\Results new\\Model\\LSTM-K4-K_max10-sequence30-delta1.h5')\n",
    "loaded_model5 = keras.models.load_model(r'F:\\Courses\\Paper\\Mine\\Paper3\\Results new\\Model\\LSTM-K5-K_max10-sequence30-delta1.h5')\n",
    "loaded_model6 = keras.models.load_model(r'F:\\Courses\\Paper\\Mine\\Paper3\\Results new\\Model\\LSTM-K6-K_max10-sequence30-delta1.h5')\n",
    "loaded_model7 = keras.models.load_model(r'F:\\Courses\\Paper\\Mine\\Paper3\\Results new\\Model\\LSTM-K7-K_max10-sequence30-delta1.h5')\n",
    "loaded_model8 = keras.models.load_model(r'F:\\Courses\\Paper\\Mine\\Paper3\\Results new\\Model\\LSTM-K8-K_max10-sequence30-delta1.h5')\n",
    "loaded_model9 = keras.models.load_model(r'F:\\Courses\\Paper\\Mine\\Paper3\\Results new\\Model\\LSTM-K9-K_max10-sequence30-delta1.h5')\n",
    "loaded_model10 = keras.models.load_model(r'F:\\Courses\\Paper\\Mine\\Paper3\\Results new\\Model\\LSTM-K10-K_max10-sequence30-delta1.h5')\n"
   ]
  },
  {
   "cell_type": "code",
   "execution_count": 84,
   "id": "f55c9e88-b216-461d-8333-d364687eb247",
   "metadata": {},
   "outputs": [
    {
     "name": "stdout",
     "output_type": "stream",
     "text": [
      "58/58 [==============================] - 2s 10ms/step\n",
      "62/62 [==============================] - 1s 10ms/step\n",
      "57/57 [==============================] - 1s 10ms/step\n",
      "56/56 [==============================] - 1s 10ms/step\n",
      "59/59 [==============================] - 2s 10ms/step\n",
      "62/62 [==============================] - 2s 10ms/step\n",
      "52/52 [==============================] - 1s 10ms/step\n",
      "63/63 [==============================] - 2s 12ms/step\n",
      "57/57 [==============================] - 2s 12ms/step\n",
      "53/53 [==============================] - 2s 12ms/step\n"
     ]
    }
   ],
   "source": [
    "y_pred1 = loaded_model1.predict(Model_data_normal_sequence[0:1826])\n",
    "y_pred2 = loaded_model2.predict(Model_data_normal_sequence[1826:3791])\n",
    "y_pred3 = loaded_model3.predict(Model_data_normal_sequence[3791:5612])\n",
    "y_pred4 = loaded_model4.predict(Model_data_normal_sequence[5612:7395])\n",
    "y_pred5 = loaded_model5.predict(Model_data_normal_sequence[7395:9256])\n",
    "y_pred6 = loaded_model6.predict(Model_data_normal_sequence[9256:11221])\n",
    "y_pred7 = loaded_model7.predict(Model_data_normal_sequence[11221:12874])\n",
    "y_pred8 = loaded_model8.predict(Model_data_normal_sequence[12874:14863])\n",
    "y_pred9 = loaded_model9.predict(Model_data_normal_sequence[14863:16672])\n",
    "y_pred10 = loaded_model10.predict(Model_data_normal_sequence[16672:18367])\n"
   ]
  },
  {
   "cell_type": "code",
   "execution_count": 85,
   "id": "c853835c-610f-4077-b2a9-d234c0d161ed",
   "metadata": {},
   "outputs": [
    {
     "data": {
      "text/plain": [
       "(18367, 3)"
      ]
     },
     "execution_count": 85,
     "metadata": {},
     "output_type": "execute_result"
    }
   ],
   "source": [
    "y_pred= np.concatenate((y_pred1, y_pred2, y_pred3, y_pred4, y_pred5,y_pred6, y_pred7, y_pred8, y_pred9, y_pred10))\n",
    "y_pred.shape"
   ]
  },
  {
   "cell_type": "code",
   "execution_count": 86,
   "id": "43487ae2-d679-4e6c-973c-d6c0a2da7622",
   "metadata": {},
   "outputs": [],
   "source": [
    "mean = np.array([ 0.82279619,   1.22980571,   3.9329219,    0.30791619,   0.06652952,\n",
    "                    -31.8272,      0.80288,  1.19558095,    3.76673524,   0.28387048,\n",
    "                  0.16338286,  -0.37188571,  0.81583238,    1.22253714,   3.61266286,\n",
    "                  0.24752762,   0.07504762,  31.2256    ])\n",
    "\n",
    "STD = np.array([0.38184109,  0.72897371,  2.7642141,   0.46163168,  0.24920543, 17.25409012,\n",
    "                0.39782371,  0.74267694,  2.72513013,  0.45087474,  0.39428699, 10.23517679,\n",
    "                0.38762083,  0.73576464,  2.64014798,  0.43157583,  0.29355984, 17.34107153])\n",
    "\n",
    "def Normalize(Input, Mean, STD):\n",
    "    Input_normalized = (np.array(Input)-np.array(mean))/np.array(STD)\n",
    "    return Input_normalized"
   ]
  },
  {
   "cell_type": "code",
   "execution_count": 87,
   "id": "b124a9e1-5913-480a-a34a-2a073f88df84",
   "metadata": {},
   "outputs": [],
   "source": [
    "mylist = ['Number 1',\n",
    "          'Number 2',\n",
    "          'Number 3']"
   ]
  },
  {
   "cell_type": "code",
   "execution_count": null,
   "id": "b204c71f-41af-42c2-9b1f-68d389d3992e",
   "metadata": {},
   "outputs": [],
   "source": [
    "XX_test = np.zeros((1,30,18))\n",
    "for i in range(30):\n",
    "    A = np.array([[0, 0, 0, 0, 0, 0], #Stand #Near #Activity #Talking #pointed #angle\n",
    "                [1, 2, 1, 0, 0, 0],\n",
    "                [1, 1, 4, 1, 0, 60]])\n",
    "    A = A.reshape(1,18)\n",
    "    A = Normalize(A, mean, STD)\n",
    "    XX_test[0,i] = A\n",
    "\n",
    "a = loaded_model2.predict(XX_test)\n",
    "b = a.argmax()\n",
    "print(mylist[b])\n",
    "print(a[0,b])\n",
    "\n",
    "a[0,b] = 0\n",
    "b = a.argmax()\n",
    "print(mylist[b])\n",
    "print(a[0,b])\n",
    "\n",
    "#a[0,b] = 0\n",
    "#b = a.argmax()\n",
    "#print(mylist[b])\n",
    "#print(a[0,b])"
   ]
  },
  {
   "cell_type": "code",
   "execution_count": 56,
   "id": "112c6ece-57a9-4d38-97de-0a63012cdac0",
   "metadata": {},
   "outputs": [
    {
     "data": {
      "text/plain": [
       "(18444, 30, 18)"
      ]
     },
     "execution_count": 56,
     "metadata": {},
     "output_type": "execute_result"
    }
   ],
   "source": [
    "Model_data_normal_sequence.shape"
   ]
  },
  {
   "cell_type": "code",
   "execution_count": 89,
   "id": "a0d71659-e779-4009-a634-b9655cf6b5cb",
   "metadata": {},
   "outputs": [
    {
     "data": {
      "text/plain": [
       "18367"
      ]
     },
     "execution_count": 89,
     "metadata": {},
     "output_type": "execute_result"
    }
   ],
   "source": [
    "y_pred.shape[0]"
   ]
  },
  {
   "cell_type": "code",
   "execution_count": 90,
   "id": "d311b471-c79b-44a2-9676-c553097b1790",
   "metadata": {},
   "outputs": [],
   "source": [
    "#y_pred = model.predict(X_train)\n",
    "#y_pred = loaded_model.predict(Model_data_normal_sequence)\n",
    "Label = np.zeros(y_pred.shape[0],dtype='int') \n",
    "for i in range(Label.shape[0]):\n",
    "    a=y_pred[i]\n",
    "    a=a.argmax()\n",
    "    if Model_data_normal_sequence[i,-1,6*a]==0:\n",
    "        y_pred[i,a]=0\n",
    "        a=y_pred[i]\n",
    "        a=a.argmax()\n",
    "    Label[i] = a "
   ]
  },
  {
   "cell_type": "code",
   "execution_count": 91,
   "id": "cf683081-6981-40c9-a49f-a95aa9f6b2f2",
   "metadata": {},
   "outputs": [],
   "source": [
    "mylist = ['Number 1',\n",
    "          'Number 2',\n",
    "          'Number 3']"
   ]
  },
  {
   "cell_type": "code",
   "execution_count": 105,
   "id": "613ded0c-ac89-4798-a8a0-bb27b7539e79",
   "metadata": {},
   "outputs": [
    {
     "data": {
      "text/plain": [
       "array([  1.,   1.,   1.,   0.,   0., -45.,   1.,   2.,   5.,   0.,   0.,\n",
       "         0.,   0.,   0.,   0.,   0.,   0.,   0.])"
      ]
     },
     "execution_count": 105,
     "metadata": {},
     "output_type": "execute_result"
    }
   ],
   "source": [
    "Properties_res[7*30]"
   ]
  },
  {
   "cell_type": "code",
   "execution_count": 111,
   "id": "2f3f044a-05d2-44d0-831e-ca080d8c1425",
   "metadata": {},
   "outputs": [],
   "source": [
    "def Participants_look(Object,i):\n",
    "    XX = 0\n",
    "    YY = 0\n",
    "\n",
    "    if Object =='Number 1':\n",
    "        if Properties_res[i,1]==1:\n",
    "            XX = int(11.9555*Properties_res[i,5]+938)\n",
    "            YY = int(550)\n",
    "\n",
    "        else:\n",
    "            XX = int(11.266*Properties_res[i,5]+946)\n",
    "            YY = int(550)\n",
    "           \n",
    "            \n",
    "    elif Object =='Number 2':\n",
    "        if Properties_res[i,7]==1:\n",
    "            XX = int(11.95555*Properties_res[i,11]+938)\n",
    "            YY = int(550)\n",
    "\n",
    "        else:\n",
    "            XX = int(11.266*Properties_res[i,11]+946)\n",
    "            YY = int(550)\n",
    "                \n",
    "                    \n",
    "    elif Object =='Number 3':\n",
    "        if Properties_res[i,12]==1:\n",
    "            XX = int(12.044*Properties_res[i,17]+938)\n",
    "            YY = int(550)\n",
    "\n",
    "        else:\n",
    "            XX = int(11.1333*Properties_res[i,17]+946)\n",
    "            YY = int(550)\n",
    "\n",
    "    return XX,YY\n",
    "            "
   ]
  },
  {
   "cell_type": "code",
   "execution_count": 112,
   "id": "a1e94469-f9df-444e-8be1-53c93388a01d",
   "metadata": {},
   "outputs": [],
   "source": [
    "from scipy.stats import multivariate_normal\n",
    "\n",
    "def Star(Object,i):\n",
    "    max_rep = 0\n",
    "    multipy = 100  #50\n",
    "    power = 2 #2\n",
    "    XX = 0\n",
    "    YY = 0\n",
    "\n",
    "    if Object =='Number 1':\n",
    "        if Properties_res[i,1]==1:\n",
    "            if Properties_res[i,2]!=7 and Properties_res[i,2]!=2:\n",
    "                max_rep = 0\n",
    "                Mean1N = np.array([400, 550])\n",
    "                cov1N = np.array([[440, 73],[73, 730]])\n",
    "                while max_rep<5:\n",
    "                    x, y = np.random.multivariate_normal(Mean1N, cov1N, 1).T\n",
    "                    var = multivariate_normal(mean=Mean1N, cov=cov1N)\n",
    "                    max_rep = round((var.pdf(np.array([x[0],y[0]]))/var.pdf(Mean1N))**power*multipy)\n",
    "                    XX = round(x[0])\n",
    "                    YY = round(y[0])\n",
    "            else:\n",
    "                XX = int(11.9555*Properties_res[i,5]+938)\n",
    "                YY = int(550)\n",
    "\n",
    "        else:\n",
    "            if Properties_res[i,2]!=7 and Properties_res[i,2]!=2:\n",
    "                max_rep = 0\n",
    "                Mean1F = np.array([608, 550])\n",
    "                cov1F = np.array([[232, 28],[28, 534]])\n",
    "                while max_rep<5:\n",
    "                    x, y = np.random.multivariate_normal(Mean1F, cov1F, 1).T\n",
    "                    var = multivariate_normal(mean=Mean1F, cov=cov1F)\n",
    "                    max_rep = round((var.pdf(np.array([x[0],y[0]]))/var.pdf(Mean1F))**power*multipy)\n",
    "                    XX = round(x[0])\n",
    "                    YY = round(y[0])\n",
    "            else:\n",
    "                XX = int(11.1333*Properties_res[i,5]+946)\n",
    "                YY = int(550)\n",
    "           \n",
    "            \n",
    "    elif Object =='Number 2':\n",
    "        if Properties_res[i,7]==1:\n",
    "            if Properties_res[i,8]!=7 and Properties_res[i,8]!=2:\n",
    "                max_rep = 0\n",
    "                Mean2N = np.array([938, 550])\n",
    "                cov2N = np.array([[442, 34],[34, 447]])\n",
    "                while max_rep<5:\n",
    "                    x, y = np.random.multivariate_normal(Mean2N, cov2N, 1).T\n",
    "                    var = multivariate_normal(mean=Mean2N, cov=cov2N)\n",
    "                    max_rep = round((var.pdf(np.array([x[0],y[0]]))/var.pdf(Mean2N))**power*multipy)\n",
    "                    XX = round(x[0])\n",
    "                    YY = round(y[0])\n",
    "            else:\n",
    "                XX = int(11.9555*Properties_res[i,5]+938)\n",
    "                YY = int(550)\n",
    "        else:                       \n",
    "            if Properties_res[i,8]!=7 and Properties_res[i,8]!=2:\n",
    "                max_rep = 0\n",
    "                Mean2F = np.array([946, 550])\n",
    "                cov2F = np.array([[216, 48],[48, 464]])\n",
    "                while max_rep<5:\n",
    "                    x, y = np.random.multivariate_normal(Mean2F, cov2F, 1).T\n",
    "                    var = multivariate_normal(mean=Mean2F, cov=cov2F)\n",
    "                    max_rep = round((var.pdf(np.array([x[0],y[0]]))/var.pdf(Mean2F))**power*multipy)\n",
    "                    XX = round(x[0])\n",
    "                    YY = round(y[0])\n",
    "            else:\n",
    "                XX = int(11.1333*Properties_res[i,5]+946)\n",
    "                YY = int(550)\n",
    "                \n",
    "                    \n",
    "    elif Object =='Number 3':\n",
    "        if Properties_res[i,12]==1:\n",
    "            if Properties_res[i,13]!=7 and Properties_res[i,13]!=2:\n",
    "                max_rep = 0\n",
    "                Mean3N = np.array([1480, 550])\n",
    "                cov3N = np.array([[440, 73],[73, 730]])\n",
    "                while max_rep<5:\n",
    "                    x, y = np.random.multivariate_normal(Mean3N, cov3N, 1).T\n",
    "                    var = multivariate_normal(mean=Mean3N, cov=cov3N)\n",
    "                    max_rep = round((var.pdf(np.array([x[0],y[0]]))/var.pdf(Mean3N))**power*multipy)\n",
    "                    XX = round(x[0])\n",
    "                    YY = round(y[0])\n",
    "                \n",
    "            else:\n",
    "                XX = int(11.9555*Properties_res[i,5]+938)\n",
    "                YY = int(550)\n",
    "                \n",
    "        else:\n",
    "            if Properties_res[i,12]!=7 and Properties_res[i,12]!=2:\n",
    "                max_rep = 0\n",
    "                Mean3F = np.array([1280, 550])\n",
    "                cov3F = np.array([[232, 28],[28, 534]])\n",
    "                while max_rep<5:\n",
    "                    x, y = np.random.multivariate_normal(Mean3F, cov3F, 1).T\n",
    "                    var = multivariate_normal(mean=Mean3F, cov=cov3F)\n",
    "                    max_rep = round((var.pdf(np.array([x[0],y[0]]))/var.pdf(Mean3F))**power*multipy)\n",
    "                    XX = round(x[0])\n",
    "                    YY = round(y[0])\n",
    "            else:\n",
    "                XX = int(11.1333*Properties_res[i,5]+946)\n",
    "                YY = int(550)\n",
    "\n",
    "    return XX,YY, max_rep\n",
    "            \n",
    "            "
   ]
  },
  {
   "cell_type": "code",
   "execution_count": 114,
   "id": "f2220aa1-ed97-4717-b06b-194246288091",
   "metadata": {},
   "outputs": [
    {
     "ename": "IndexError",
     "evalue": "index 18477 is out of bounds for axis 0 with size 18474",
     "output_type": "error",
     "traceback": [
      "\u001b[1;31m---------------------------------------------------------------------------\u001b[0m",
      "\u001b[1;31mIndexError\u001b[0m                                Traceback (most recent call last)",
      "Cell \u001b[1;32mIn[114], line 62\u001b[0m\n\u001b[0;32m     60\u001b[0m \u001b[38;5;28;01mif\u001b[39;00m str_count \u001b[38;5;241m!=\u001b[39m mylist[A] \u001b[38;5;129;01mor\u001b[39;00m counter \u001b[38;5;241m>\u001b[39m\u001b[38;5;241m=\u001b[39m max_rep:\n\u001b[0;32m     61\u001b[0m     str_count \u001b[38;5;241m=\u001b[39m mylist[A]\n\u001b[1;32m---> 62\u001b[0m     XX, YY, max_rep \u001b[38;5;241m=\u001b[39m \u001b[43mStar\u001b[49m\u001b[43m(\u001b[49m\u001b[43mmylist\u001b[49m\u001b[43m[\u001b[49m\u001b[43mA\u001b[49m\u001b[43m]\u001b[49m\u001b[43m,\u001b[49m\u001b[43mi\u001b[49m\u001b[43m)\u001b[49m \n\u001b[0;32m     63\u001b[0m     counter \u001b[38;5;241m=\u001b[39m \u001b[38;5;241m0\u001b[39m\n\u001b[0;32m     64\u001b[0m \u001b[38;5;28;01melse\u001b[39;00m:\n",
      "Cell \u001b[1;32mIn[112], line 74\u001b[0m, in \u001b[0;36mStar\u001b[1;34m(Object, i)\u001b[0m\n\u001b[0;32m     70\u001b[0m             YY \u001b[38;5;241m=\u001b[39m \u001b[38;5;28mint\u001b[39m(\u001b[38;5;241m550\u001b[39m)\n\u001b[0;32m     73\u001b[0m \u001b[38;5;28;01melif\u001b[39;00m Object \u001b[38;5;241m==\u001b[39m\u001b[38;5;124m'\u001b[39m\u001b[38;5;124mNumber 3\u001b[39m\u001b[38;5;124m'\u001b[39m:\n\u001b[1;32m---> 74\u001b[0m     \u001b[38;5;28;01mif\u001b[39;00m \u001b[43mProperties_res\u001b[49m\u001b[43m[\u001b[49m\u001b[43mi\u001b[49m\u001b[43m,\u001b[49m\u001b[38;5;241;43m12\u001b[39;49m\u001b[43m]\u001b[49m\u001b[38;5;241m==\u001b[39m\u001b[38;5;241m1\u001b[39m:\n\u001b[0;32m     75\u001b[0m         \u001b[38;5;28;01mif\u001b[39;00m Properties_res[i,\u001b[38;5;241m13\u001b[39m]\u001b[38;5;241m!=\u001b[39m\u001b[38;5;241m7\u001b[39m \u001b[38;5;129;01mand\u001b[39;00m Properties_res[i,\u001b[38;5;241m13\u001b[39m]\u001b[38;5;241m!=\u001b[39m\u001b[38;5;241m2\u001b[39m:\n\u001b[0;32m     76\u001b[0m             max_rep \u001b[38;5;241m=\u001b[39m \u001b[38;5;241m0\u001b[39m\n",
      "\u001b[1;31mIndexError\u001b[0m: index 18477 is out of bounds for axis 0 with size 18474"
     ]
    }
   ],
   "source": [
    "cap = cv2.VideoCapture(r'F:\\Courses\\Paper\\Mine\\Paper3\\Videorecorded.mp4')\n",
    "\n",
    "record = 1\n",
    "delta = 1\n",
    "\n",
    "width = int(cap.get(cv2.CAP_PROP_FRAME_WIDTH) + 0.5)\n",
    "height = int(cap.get(cv2.CAP_PROP_FRAME_HEIGHT) + 0.5)\n",
    "size = (width, height)\n",
    "if record == 1:\n",
    "    fourcc = cv2.VideoWriter_fourcc(*'XVID')\n",
    "    out = cv2.VideoWriter(r\"F:\\Courses\\Paper\\Mine\\Paper3/\"+namerec+\".avi\", fourcc, 30.0, size)\n",
    "\n",
    "    \n",
    "#Parameters    \n",
    "i = 0\n",
    "w = 0\n",
    "counter = 0\n",
    "max_rep = 0\n",
    "str_count = \"Hi\"\n",
    "XX_old = 1920/2\n",
    "YY_old = 900\n",
    "\n",
    "while(cap.isOpened()):\n",
    "    \n",
    "    #For python\n",
    "    ret, frame = cap.read()\n",
    "    if ret == False or i==30*620:\n",
    "        break\n",
    "        \n",
    "        \n",
    "    \n",
    "        \n",
    "    cv2.namedWindow(\"frame\", cv2.WINDOW_NORMAL)        # Create window with freedom of dimensions\n",
    "    cv2.resizeWindow(\"frame\", 2000, 800)\n",
    "    rgb_frame = cv2.cvtColor(frame, cv2.COLOR_BGR2RGB)\n",
    "\n",
    "    #For time\n",
    "    cv2.putText(frame,\"t=\"+str(round(i/30,2))+\"s\", (100,100), cv2.FONT_HERSHEY_SIMPLEX, 1,(255,255,255),2)\n",
    "    \n",
    "    #Participants\n",
    "    \n",
    "    if i>= 30*6:    \n",
    "        for j in range(Persons_inter.shape[0]):\n",
    "            angle = j * (2 * math.pi / Persons_inter.shape[0])\n",
    "            x =  radius * math.cos(angle)\n",
    "            y =  radius * math.sin(angle)\n",
    "            Look_X, Look_Y = Participants_look(Model_label[int(Persons_inter[j])+i-30*6],i-30*6)\n",
    "            if Look_X>0:\n",
    "                cv2.putText(frame, \"*\", (Look_X+int(x), Look_Y+int(y)), cv2.FONT_HERSHEY_SIMPLEX, 1,(0,0,255),2) #Detecter Model\n",
    "            \n",
    "\n",
    "\n",
    "    #For detect\n",
    "    if i >= sequence and i>= 30*6:\n",
    "        #Update after delta\n",
    "        if i%delta == 0: \n",
    "            A = Label[w]\n",
    "            w = w + 1\n",
    "\n",
    "        if str_count != mylist[A] or counter >= max_rep:\n",
    "            str_count = mylist[A]\n",
    "            XX, YY, max_rep = Star(mylist[A],i) \n",
    "            counter = 0\n",
    "        else:\n",
    "            counter = counter + 1\n",
    "\n",
    "    else:\n",
    "        XX = int(XX_old)\n",
    "        YY = int(YY_old)\n",
    "\n",
    "    XX_draw = int(XX_old + (XX - XX_old)/10)\n",
    "    YY_draw = int(YY_old + (YY - YY_old)/10)\n",
    "\n",
    "    XX_old = XX_draw\n",
    "    YY_old = YY_draw\n",
    "\n",
    "\n",
    "    cv2.putText(frame, \"*\", (XX_draw, YY_draw), cv2.FONT_HERSHEY_SIMPLEX, 1,(255,255,255),2) #Detecter Model\n",
    "\n",
    "\n",
    "    if record==1:\n",
    "        out.write(frame)\n",
    "        \n",
    "    # if i%30==0:\n",
    "    #     Name_photo = \"Paper3-Photo\"+str(i)\n",
    "    #     cv2.imwrite(r\"F:\\Courses\\Paper\\Mine\\Paper3\\Snapshots/\"+Name_photo+'.jpg', frame)\n",
    "\n",
    "    cv2.imshow('frame', frame)\n",
    "    \n",
    "    i += 1\n",
    "    if cv2.waitKey(1) & 0xFF == ord('q'):\n",
    "        break\n",
    "    cv2.waitKey(1)\n",
    "    \n",
    "    \n",
    "cap.release()\n",
    "cv2.destroyAllWindows()"
   ]
  },
  {
   "cell_type": "code",
   "execution_count": 115,
   "id": "bcbea9d0-294d-4b81-bb0d-a45972ee45e1",
   "metadata": {},
   "outputs": [],
   "source": [
    "cap.release()\n",
    "out.release()\n",
    "cv2.destroyAllWindows()"
   ]
  },
  {
   "cell_type": "code",
   "execution_count": null,
   "id": "5445bb2f-16e0-41ee-9c6b-488b713d7119",
   "metadata": {},
   "outputs": [],
   "source": [
    "\n",
    "import cv2\n",
    "\n",
    "# Read the video file\n",
    "cap = cv2.VideoCapture(r'F:\\Courses\\Paper\\Mine\\Paper3\\Videorecorded.mp4')\n",
    "\n",
    "# Set the frame number to extract\n",
    "frame_num = (6*60+15)*30\n",
    "\n",
    "# Move the pointer to the desired frame\n",
    "cap.set(cv2.CAP_PROP_POS_FRAMES, frame_num)\n",
    "\n",
    "# Read the frame\n",
    "ret, frame = cap.read()\n",
    "\n",
    "cv2.putText(frame,\"t=\"+str(round(frame_num/30,2))+\"s\", (100,100), cv2.FONT_HERSHEY_SIMPLEX, 1,(0,0,0),2)\n",
    "\n",
    "#cv2.putText(frame, \"*\", (int(400),int(550)), cv2.FONT_HERSHEY_SIMPLEX, 0.5,(0,0,255),2) #Done Near 1\n",
    "cv2.putText(frame, \"*\", (int(608),int(550)), cv2.FONT_HERSHEY_SIMPLEX, 0.5,(0,0,255),2) #Done Far 1\n",
    "#cv2.putText(frame, \"*\", (int(946),int(548)), cv2.FONT_HERSHEY_SIMPLEX, 0.5,(0,0,255),2) #Done Far 2\n",
    "#cv2.putText(frame, \"*\", (int(938),int(548)), cv2.FONT_HERSHEY_SIMPLEX, 0.5,(0,0,255),2) #Done Near 2\n",
    "#cv2.putText(frame, \"*\", (int(1480),int(548)), cv2.FONT_HERSHEY_SIMPLEX, 0.5,(0,0,255),2) #Done Near 3\n",
    "#cv2.putText(frame, \"*\", (int(1280),int(548)), cv2.FONT_HERSHEY_SIMPLEX, 0.5,(0,0,255),2) #Done Far 3\n",
    "\n",
    "\n",
    "# Check if the frame was successfully read\n",
    "if ret:\n",
    "    # Save the frame as an image file\n",
    "    cv2.imwrite('frame2.png', frame)\n",
    "\n",
    "# Release the video capture object and close all windows\n",
    "cap.release()\n",
    "cv2.destroyAllWindows()\n",
    "\n",
    "\n"
   ]
  },
  {
   "cell_type": "code",
   "execution_count": 109,
   "id": "77859975-99cb-4799-8b9e-49177b4f56c4",
   "metadata": {},
   "outputs": [
    {
     "data": {
      "text/plain": [
       "11"
      ]
     },
     "execution_count": 109,
     "metadata": {},
     "output_type": "execute_result"
    }
   ],
   "source": [
    "Persons_inter.shape[0]"
   ]
  },
  {
   "cell_type": "code",
   "execution_count": null,
   "id": "819b5264-a5be-4444-9988-dc27a8675b6f",
   "metadata": {},
   "outputs": [],
   "source": []
  }
 ],
 "metadata": {
  "kernelspec": {
   "display_name": "Python 3 (ipykernel)",
   "language": "python",
   "name": "python3"
  },
  "language_info": {
   "codemirror_mode": {
    "name": "ipython",
    "version": 3
   },
   "file_extension": ".py",
   "mimetype": "text/x-python",
   "name": "python",
   "nbconvert_exporter": "python",
   "pygments_lexer": "ipython3",
   "version": "3.10.9"
  }
 },
 "nbformat": 4,
 "nbformat_minor": 5
}
