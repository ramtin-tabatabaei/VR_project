{
 "cells": [
  {
   "cell_type": "code",
   "execution_count": 1,
   "id": "0656aa14-8e81-4b3b-bf2b-e2fb8f1ea992",
   "metadata": {},
   "outputs": [],
   "source": [
    "#It is a good code for recorning the video For Real"
   ]
  },
  {
   "cell_type": "code",
   "execution_count": 2,
   "id": "22511e53-1781-4b0d-ada0-31203fb3b454",
   "metadata": {},
   "outputs": [],
   "source": [
    "%matplotlib inline\n",
    "import numpy as np\n",
    "import cv2\n",
    "import random\n",
    "import datetime as dt\n",
    "import tensorflow as tf\n",
    "from collections import deque\n",
    "import matplotlib.pyplot as plt\n",
    "from tensorflow.keras.layers import *\n",
    "from tensorflow.keras.models import Sequential\n",
    "from tensorflow.keras.utils import to_categorical\n",
    "from tensorflow.keras.callbacks import EarlyStopping\n",
    "from tensorflow.keras.utils import plot_model\n",
    "import math"
   ]
  },
  {
   "cell_type": "code",
   "execution_count": 3,
   "id": "d919ad22-670b-4033-9db0-e1464ef2fe76",
   "metadata": {},
   "outputs": [],
   "source": [
    "#Parameters\n",
    "record = 1 # on=1 off=0\n",
    "namerec = \"sequence30-NTD10-K1-LSTM\"\n",
    "radius = 20  # Radius of the circle"
   ]
  },
  {
   "cell_type": "code",
   "execution_count": 4,
   "id": "d98813f4-b607-4ab3-a5d2-c7cc6b037db9",
   "metadata": {},
   "outputs": [
    {
     "name": "stdout",
     "output_type": "stream",
     "text": [
      "Number of txt files: 11\n"
     ]
    }
   ],
   "source": [
    "import os\n",
    "\n",
    "directory = r\"F:\\Courses\\Paper\\Mine\\Paper3\\Data\"\n",
    "\n",
    "# get a list of all .txt files in the directory\n",
    "txt_files = [os.path.join(directory, f) for f in os.listdir(directory) if f.endswith('.txt')]\n",
    "\n",
    "# print the number of .txt files found\n",
    "print(\"Number of txt files:\", len(txt_files))\n",
    "\n",
    "# read the contents of each .txt file and store them in an array\n",
    "Data = np.zeros((len(txt_files),50000,4))\n",
    "for file_path in txt_files:\n",
    "    for i in range(len(txt_files)):\n",
    "        data = np.loadtxt(txt_files[i], dtype=object)\n",
    "        data = [line.split(',') for line in data]\n",
    "\n",
    "        # Convert the resulting list of lists to a NumPy array with the appropriate data types\n",
    "        data = np.array(data, dtype=np.float32)\n",
    "        #data = data.astype(np.int32)\n",
    "        A = np.zeros((50000-data.shape[0], data.shape[1]))\n",
    "        Data[i] = np.concatenate((data, A))\n"
   ]
  },
  {
   "cell_type": "code",
   "execution_count": 5,
   "id": "b8f00468-2abd-4c76-ac4b-2d7fd4759173",
   "metadata": {},
   "outputs": [],
   "source": [
    "import pandas as pd\n",
    "\n",
    "# Load the Excel file into a DataFrame\n",
    "df = pd.read_excel(r'F:\\Courses\\Paper\\Mine\\Paper3\\Animation\\For recording\\Properties-Part1.xlsx', sheet_name='Sheet1')\n",
    "\n",
    "# Select the values from row 3 and onwards\n",
    "Properties_Ani = df.values[1:]"
   ]
  },
  {
   "cell_type": "code",
   "execution_count": 6,
   "id": "2ebad70a-2ba3-4bf6-b867-4dd74b9c072c",
   "metadata": {},
   "outputs": [],
   "source": [
    "# Load the Excel file into a DataFrame\n",
    "df = pd.read_excel(r'F:\\Courses\\Paper\\Mine\\Paper3\\Properties.xlsx', sheet_name='Sheet1')\n",
    "\n",
    "# Select the values from row 3 and onwards\n",
    "Properties_Uni = df.values[1:]"
   ]
  },
  {
   "cell_type": "code",
   "execution_count": 7,
   "id": "b9c59e76-ffac-43ec-8f67-c96d01d47915",
   "metadata": {},
   "outputs": [],
   "source": [
    "import numpy as np\n",
    "\n",
    "# Assume the data array is already loaded into a variable named 'data'\n",
    "\n",
    "# Find the indices where the values are \"N\" or \"F\"\n",
    "idx_n = np.where(Properties_Ani == np.array([\"N\"], dtype=str))\n",
    "idx_f = np.where(Properties_Ani == np.array([\"F\"], dtype=str))\n",
    "\n",
    "# Replace \"N\" with \"1\"\n",
    "Properties_Ani[idx_n] = 1\n",
    "\n",
    "# Replace \"F\" with \"2\"\n",
    "Properties_Ani[idx_f] = 2\n",
    "\n",
    "# Find the indices where the values are \"N\" or \"F\"\n",
    "idx_n = np.where(Properties_Uni == np.array([\"N\"], dtype=str))\n",
    "idx_f = np.where(Properties_Uni == np.array([\"F\"], dtype=str))\n",
    "\n",
    "# Replace \"N\" with \"1\"\n",
    "Properties_Uni[idx_n] = 1\n",
    "\n",
    "# Replace \"F\" with \"2\"\n",
    "Properties_Uni[idx_f] = 2\n"
   ]
  },
  {
   "cell_type": "code",
   "execution_count": 8,
   "id": "330f8b0f-b0ef-4da4-8b36-f85fdd841329",
   "metadata": {},
   "outputs": [],
   "source": [
    "Properties_Ani = np.array(Properties_Ani)\n",
    "Properties_Ani = Properties_Ani.astype(float)\n",
    "Properties_Uni = np.array(Properties_Uni)\n",
    "Properties_Uni = Properties_Uni.astype(float)"
   ]
  },
  {
   "cell_type": "code",
   "execution_count": 9,
   "id": "cc2c9608-48f8-48f5-9ee3-5f3f91df00ea",
   "metadata": {},
   "outputs": [],
   "source": [
    "resulotion = 1/30\n",
    "Dim = round((Properties_Ani[-1,0]-Properties_Ani[0,0])/resulotion)\n",
    "Properties_Ani_res = np.zeros((Dim, Properties_Ani.shape[1]))\n",
    "t0 = 0\n",
    "tf = 303\n",
    "t = t0\n",
    "Properties_Ani_inter = 0\n",
    "\n",
    "for i in range(Dim):\n",
    "    Properties_Ani_res[i] = Properties_Ani[Properties_Ani_inter]\n",
    "    Properties_Ani_res[i,0] = t\n",
    "    if t >= Properties_Ani[Properties_Ani_inter+1,0]:\n",
    "        Properties_Ani_inter += 1\n",
    "    \n",
    "    t += resulotion"
   ]
  },
  {
   "cell_type": "code",
   "execution_count": 10,
   "id": "6254e76d-e7e8-42bc-9217-8106d7e0ce72",
   "metadata": {},
   "outputs": [],
   "source": [
    "Dim = round((Properties_Uni[-1,0]-Properties_Uni[0,0])/resulotion)\n",
    "Properties_Uni_res = np.zeros((Dim, Properties_Uni.shape[1]))\n",
    "Data_res = np.zeros((len(txt_files), Dim, Data.shape[2]))\n",
    "t0 = 5\n",
    "tf = 620.8\n",
    "t = t0\n",
    "Data_inter = np.zeros(len(txt_files),dtype=\"int\")\n",
    "Properties_Uni_inter = 0\n",
    "#for j in range(len(txt_files)):\n",
    "for j in range(1):\n",
    "    for i in range(Data[j].shape[0]):\n",
    "        if Data[j,i,0] >= t0:\n",
    "            Data_inter[j] = i - 1\n",
    "            break\n",
    "for i in range(Dim):\n",
    "    Properties_Uni_res[i] = Properties_Uni[Properties_Uni_inter]\n",
    "    Properties_Uni_res[i,0] = t\n",
    "    if t >= Properties_Uni[Properties_Uni_inter+1,0]:\n",
    "        Properties_Uni_inter += 1\n",
    "    for j in range(len(txt_files)):\n",
    "        if Data[j,Data_inter[j]+2,0]==0:\n",
    "            continue\n",
    "        Data_res[j,i] = Data[j, Data_inter[j]]\n",
    "        Data_res[j,i,0] = t\n",
    "        while True:\n",
    "            if t >= Data[j, Data_inter[j] + 1,0]:\n",
    "                Data_inter[j] += 1\n",
    "            else:\n",
    "                break\n",
    "    \n",
    "    t += resulotion"
   ]
  },
  {
   "cell_type": "code",
   "execution_count": 11,
   "id": "9bdb6b96-15a8-4330-9de1-e6651aab0ce2",
   "metadata": {},
   "outputs": [],
   "source": [
    "# Number 1\n",
    "XBminN1 = 122 #X Body min Near\n",
    "XBmaxN1 = 167 #X Body max Near\n",
    "\n",
    "XBminF1 = 155 #X Body min Far\n",
    "XBmaxF1 = 175 #X Body max Far\n",
    "\n",
    "\n",
    "# Number 2\n",
    "XBminN2 = 170 #X Body min Near\n",
    "XBmaxN2 = 195 #X Body max Near\n",
    "\n",
    "XBminF2 = 180 #X Body min Far\n",
    "XBmaxF2 = 200 #X Body max Far\n",
    "\n",
    "\n",
    "# Number 3\n",
    "XBminN3 = 200 #X Body min Near\n",
    "XBmaxN3 = 235 #X Body max Near\n",
    "\n",
    "XBminF3 = 203 #X Body min Far\n",
    "XBmaxF3 = 218 #X Body max Far\n"
   ]
  },
  {
   "cell_type": "code",
   "execution_count": 12,
   "id": "c6a4e506-4697-4050-a3ab-53c86d4316a4",
   "metadata": {},
   "outputs": [],
   "source": [
    "Model_data = np.zeros((Data_res.shape[0]*Data_res.shape[1],Properties_Uni_res.shape[1]))\n",
    "Model_label = np.zeros((Data_res.shape[0]*Data_res.shape[1]), dtype=\"O\")\n",
    "inter = 0\n",
    "for z in range(Data_res.shape[0]):\n",
    "    for j in range(Data_res.shape[1]):\n",
    "        if Data_res[z,j,0] == 0:\n",
    "            continue\n",
    "        Model_data[inter] = Properties_Uni_res[j]\n",
    "        Model_label[inter] = \"No Data\"\n",
    "\n",
    "        P = 0 # number of person 1\n",
    "        if Properties_Uni_res[j,6*P+1] == 1: #if the person is present\n",
    "            if Properties_Uni_res[j,6*P+2] == 1: #if the person is Near or Far\n",
    "                if Properties_Uni_res[j,6*P+3] != 7: #if the person is stationary or Entering or Leaving\n",
    "                    if XBminN1<Data_res[z,j,2]<XBmaxN1: #Body\n",
    "                        Model_label[inter] = \"Number 1\"\n",
    "                            \n",
    "                elif Properties_Uni_res[j,6*P+3] == 7:  #if the person is stationary or moving\n",
    "                    if 100<Data_res[z,j,2]<XBmaxN1: #Body\n",
    "                        Model_label[inter] = \"Number 1\"\n",
    "\n",
    "                        \n",
    "            elif Properties_Uni_res[j,6*P+2] == 2: #if the person is Near or Far\n",
    "                if Properties_Uni_res[j,6*P+3] != 7: #if the person is stationary or Entering or Leaving\n",
    "                    if XBminF1<Data_res[z,j,2]<XBmaxF1: #Body\n",
    "                        Model_label[inter] = \"Number 1\"\n",
    "\n",
    "                elif Properties_Uni_res[j,6*P+3] == 7:  #if the person is stationary or moving\n",
    "                    if 100<Data_res[z,j,2]<XBmaxN1: #Body\n",
    "                        Model_label[inter] = \"Number 1\"\n",
    "\n",
    "\n",
    "        P = 1 # number of person 2\n",
    "        if Properties_Uni_res[j,6*P+1] == 1: #if the person is present\n",
    "            if Properties_Uni_res[j,6*P+2] == 1: #if the person is Near or Far\n",
    "                if Properties_Uni_res[j,6*P+3] != 7: #if the person is stationary or Entering or Leaving\n",
    "                    if XBminN2<Data_res[z,j,2]<XBmaxN2: #Body\n",
    "                        Model_label[inter] = \"Number 2\"\n",
    "                            \n",
    "                elif Properties_Uni_res[j,6*P+3] == 7:  #if the person is stationary or moving\n",
    "                    if Properties_Uni_res[j,6*P+6] <=0:  #if the person is leaving or entering from left side\n",
    "                        if 100<Data_res[z,j,2]<180: #Body\n",
    "                            Model_label[inter] = \"Number 2\"\n",
    "                    elif Properties_Uni_res[j,6*P+6] >=0:  #if the person is leaving or entering from left side\n",
    "                        if 180<Data_res[z,j,2]<250: #Body\n",
    "                            Model_label[inter] = \"Number 2\"\n",
    "                            \n",
    "\n",
    "            elif Properties_Uni_res[j,6*P+2] == 2: #if the person is Near or Far\n",
    "                if Properties_Uni_res[j,6*P+3] != 7: #if the person is stationary or Entering or Leaving\n",
    "                    if XBminF2<Data_res[z,j,2]<XBmaxF2: #Body\n",
    "                        Model_label[inter] = \"Number 2\"\n",
    "\n",
    "                            \n",
    "                elif Properties_Uni_res[j,6*P+3] == 7:  #if the person is stationary or moving\n",
    "                    if Properties_Uni_res[j,6*P+6] <=0:  #if the person is leaving or entering from left side\n",
    "                        if 100<Data_res[z,j,2]<180: #Body\n",
    "                            Model_label[inter] = \"Number 2\"\n",
    "                    elif Properties_Uni_res[j,6*P+6] >=0:  #if the person is leaving or entering from left side\n",
    "                        if 180<Data_res[z,j,2]<250: #Body\n",
    "                            Model_label[inter] = \"Number 2\"\n",
    "                            \n",
    "\n",
    "        P = 2 # number of person 3\n",
    "        if Properties_Uni_res[j,6*P+1] == 1: #if the person is present\n",
    "            if Properties_Uni_res[j,6*P+2] == 1: #if the person is Near or Far\n",
    "                if Properties_Uni_res[j,6*P+3] != 7: #if the person is stationary or Entering or Leaving\n",
    "                    if XBminN3<Data_res[z,j,2]<XBmaxN3: #Body\n",
    "                        Model_label[inter] = \"Number 3\"\n",
    "                            \n",
    "                elif Properties_Uni_res[j,6*P+3] == 7:  #if the person is stationary or moving\n",
    "                    if XBminN3<Data_res[z,j,2]<250: #Body\n",
    "                        Model_label[inter] = \"Number 3\"\n",
    "\n",
    "            elif Properties_Uni_res[j,6*P+2] == 2: #if the person is Near or Far\n",
    "                if Properties_Uni_res[j,6*P+3] != 7: #if the person is stationary or Entering or Leaving\n",
    "                    if XBminF3<Data_res[z,j,2]<XBmaxF3: #Body\n",
    "                        Model_label[inter] = \"Number 3\"\n",
    "                        \n",
    "                elif Properties_Uni_res[j,6*P+3] == 7:  #if the person is stationary or moving\n",
    "                        if XBminF3<Data_res[z,j,2]<250: #Body\n",
    "                            Model_label[inter] = \"Number 3\"\n",
    "        inter +=1"
   ]
  },
  {
   "cell_type": "code",
   "execution_count": 13,
   "id": "fe590120-3821-498f-bc02-6a1e43d40fcc",
   "metadata": {},
   "outputs": [],
   "source": [
    "Model_data = np.array(Model_data[0:inter])\n",
    "Model_label = np.array(Model_label[0:inter])"
   ]
  },
  {
   "cell_type": "code",
   "execution_count": 14,
   "id": "6bb22292-d1d2-4338-80ed-006ea407e5c5",
   "metadata": {},
   "outputs": [],
   "source": [
    "from sklearn.preprocessing import StandardScaler\n",
    "\n",
    "scaler = StandardScaler()\n",
    "scaler = scaler.fit(Model_data)\n",
    "Model_data_normal = scaler.transform(Model_data)  #scale the data\n",
    "\n",
    "Model_data_normal = np.delete(Model_data_normal, 0, axis=1)"
   ]
  },
  {
   "cell_type": "code",
   "execution_count": 15,
   "id": "983a20f3-6e20-4620-8087-e93f4c99f203",
   "metadata": {},
   "outputs": [],
   "source": [
    "def Labell(String):\n",
    "    if String == \"Number 1\":\n",
    "        return 0\n",
    "    elif String == \"Number 2\":\n",
    "        return 1\n",
    "    elif String == \"Number 3\":\n",
    "        return 2"
   ]
  },
  {
   "cell_type": "code",
   "execution_count": 16,
   "id": "7332a26c-0f00-43ea-9482-285d4afee554",
   "metadata": {},
   "outputs": [],
   "source": [
    "Persons_inter = np.zeros(len(txt_files))\n",
    "inter = 0\n",
    "for i in range(Model_data.shape[0]):\n",
    "    if Model_data[i, 0] == 5:\n",
    "        Persons_inter[inter] = i\n",
    "        inter += 1"
   ]
  },
  {
   "cell_type": "code",
   "execution_count": 17,
   "id": "5625e353-b8ee-4268-8446-2b282c89036a",
   "metadata": {},
   "outputs": [
    {
     "data": {
      "text/plain": [
       "array([     0.,  12133.,  30607.,  49081.,  67555.,  86029., 104503.,\n",
       "       122977., 141451., 159925., 178399.])"
      ]
     },
     "execution_count": 17,
     "metadata": {},
     "output_type": "execute_result"
    }
   ],
   "source": [
    "Persons_inter"
   ]
  },
  {
   "cell_type": "code",
   "execution_count": 18,
   "id": "8ecbe4e2-fb3f-4748-8379-d8193a58a45e",
   "metadata": {},
   "outputs": [],
   "source": [
    "mean = [ 3.06370221e+02,  8.22692802e-01,  1.22970646e+00,  3.93117390e+00,\n",
    "  3.08086939e-01,  6.65301997e-02, -3.18157899e+01,  8.02654503e-01,\n",
    "  1.19513595e+00,  3.76530555e+00,  2.83873360e-01,  1.62993402e-01,\n",
    " -3.84537240e-01,  8.15886384e-01,  1.22237178e+00,  3.61190209e+00,\n",
    "  2.47362513e-01,  7.50483814e-02,  3.12343744e+01]\n",
    "std = [176.46310571,   0.38192847,   0.72907873,   2.76399406,   0.46170269,\n",
    "   0.24920661,  17.24564431 ,  0.39799529,   0.74279802,   2.72532234,\n",
    "   0.45087612,   0.3935287,   10.19257654,   0.38757682,   0.73562885,\n",
    "   2.63930238,   0.4314792,    0.29356123,  17.34610596]\n"
   ]
  },
  {
   "cell_type": "code",
   "execution_count": 19,
   "id": "89309a06-e8ec-4246-81ba-d90f520402aa",
   "metadata": {},
   "outputs": [],
   "source": [
    "Properties_Normal_res = np.array((Properties_Ani_res-mean)/std)\n",
    "Properties_res = np.array(Properties_Ani_res[:,1:19])\n",
    "Properties_Normal_res = np.array(Properties_Normal_res[:,1:19])"
   ]
  },
  {
   "cell_type": "code",
   "execution_count": 20,
   "id": "161ba44f-9042-495b-85be-b3a447fa6baf",
   "metadata": {},
   "outputs": [],
   "source": [
    "sequence = 30\n",
    "Model_data_normal_sequence = np.zeros((Properties_Normal_res.shape[0],sequence,Properties_Normal_res.shape[1]),dtype='float')\n",
    "inter = 0\n",
    "for i in range(Model_data_normal_sequence.shape[0]-sequence):\n",
    "    for j in range(sequence):\n",
    "        Model_data_normal_sequence[inter,j] = Properties_Normal_res[i+j]\n",
    "    inter += 1\n",
    "        \n",
    "Model_data_normal_sequence = np.array(Model_data_normal_sequence[0:inter])"
   ]
  },
  {
   "cell_type": "code",
   "execution_count": 21,
   "id": "14b9705d-bb05-4b4c-a47e-34ab8ec5b4b4",
   "metadata": {},
   "outputs": [],
   "source": [
    "import tensorflow as tf\n",
    "from tensorflow import keras\n",
    "import h5py\n",
    "\n",
    "# Load the model from the HDF5 file\n",
    "#loaded_model = keras.models.load_model(r'F:\\Courses\\Paper\\Mine\\Paper3\\Results\\LSTM-K3-TTP0.8-sequence30 (1).h5')\n",
    "loaded_model1 = keras.models.load_model(r'F:\\Courses\\Paper\\Mine\\Paper3\\Results new\\Model\\LSTM-K1-K_max10-sequence30-delta1.h5')\n",
    "loaded_model2 = keras.models.load_model(r'F:\\Courses\\Paper\\Mine\\Paper3\\Results new\\Model\\LSTM-K2-K_max10-sequence30-delta1.h5')\n",
    "loaded_model3 = keras.models.load_model(r'F:\\Courses\\Paper\\Mine\\Paper3\\Results new\\Model\\LSTM-K3-K_max10-sequence30-delta1.h5')\n",
    "loaded_model4 = keras.models.load_model(r'F:\\Courses\\Paper\\Mine\\Paper3\\Results new\\Model\\LSTM-K4-K_max10-sequence30-delta1.h5')\n",
    "loaded_model5 = keras.models.load_model(r'F:\\Courses\\Paper\\Mine\\Paper3\\Results new\\Model\\LSTM-K5-K_max10-sequence30-delta1.h5')\n",
    "loaded_model6 = keras.models.load_model(r'F:\\Courses\\Paper\\Mine\\Paper3\\Results new\\Model\\LSTM-K6-K_max10-sequence30-delta1.h5')\n",
    "loaded_model7 = keras.models.load_model(r'F:\\Courses\\Paper\\Mine\\Paper3\\Results new\\Model\\LSTM-K7-K_max10-sequence30-delta1.h5')\n",
    "loaded_model8 = keras.models.load_model(r'F:\\Courses\\Paper\\Mine\\Paper3\\Results new\\Model\\LSTM-K8-K_max10-sequence30-delta1.h5')\n",
    "loaded_model9 = keras.models.load_model(r'F:\\Courses\\Paper\\Mine\\Paper3\\Results new\\Model\\LSTM-K9-K_max10-sequence30-delta1.h5')\n",
    "loaded_model10 = keras.models.load_model(r'F:\\Courses\\Paper\\Mine\\Paper3\\Results new\\Model\\LSTM-K10-K_max10-sequence30-delta1.h5')\n"
   ]
  },
  {
   "cell_type": "code",
   "execution_count": 22,
   "id": "7156b4ba-459f-48aa-99f7-86ea2ebb8194",
   "metadata": {},
   "outputs": [
    {
     "data": {
      "text/plain": [
       "(9060, 30, 18)"
      ]
     },
     "execution_count": 22,
     "metadata": {},
     "output_type": "execute_result"
    }
   ],
   "source": [
    "Model_data_normal_sequence.shape"
   ]
  },
  {
   "cell_type": "code",
   "execution_count": 23,
   "id": "178a0d90-8ccc-4084-adf5-06759fca4193",
   "metadata": {},
   "outputs": [],
   "source": [
    "T = np.array([0, 60.87, 121.04, 187.07, 246.51])"
   ]
  },
  {
   "cell_type": "code",
   "execution_count": 24,
   "id": "f55c9e88-b216-461d-8333-d364687eb247",
   "metadata": {},
   "outputs": [
    {
     "name": "stdout",
     "output_type": "stream",
     "text": [
      "58/58 [==============================] - 3s 11ms/step\n",
      "57/57 [==============================] - 2s 12ms/step\n",
      "62/62 [==============================] - 2s 12ms/step\n",
      "56/56 [==============================] - 2s 12ms/step\n",
      "53/53 [==============================] - 2s 11ms/step\n"
     ]
    }
   ],
   "source": [
    "y_pred1 = loaded_model1.predict(Model_data_normal_sequence[0:1826])\n",
    "y_pred2 = loaded_model2.predict(Model_data_normal_sequence[1826:3631])\n",
    "y_pred3 = loaded_model3.predict(Model_data_normal_sequence[3631:5612])\n",
    "y_pred4 = loaded_model4.predict(Model_data_normal_sequence[5612:7395])\n",
    "y_pred5 = loaded_model5.predict(Model_data_normal_sequence[7395:9060])\n"
   ]
  },
  {
   "cell_type": "code",
   "execution_count": 25,
   "id": "c853835c-610f-4077-b2a9-d234c0d161ed",
   "metadata": {},
   "outputs": [
    {
     "data": {
      "text/plain": [
       "(9060, 3)"
      ]
     },
     "execution_count": 25,
     "metadata": {},
     "output_type": "execute_result"
    }
   ],
   "source": [
    "y_pred= np.concatenate((y_pred1, y_pred2, y_pred3, y_pred4, y_pred5))\n",
    "y_pred.shape"
   ]
  },
  {
   "cell_type": "code",
   "execution_count": 29,
   "id": "43487ae2-d679-4e6c-973c-d6c0a2da7622",
   "metadata": {},
   "outputs": [],
   "source": [
    "mean = np.array([ 0.82279619,   1.22980571,   3.9329219,    0.30791619,   0.06652952,\n",
    "                    -31.8272,      0.80288,  1.19558095,    3.76673524,   0.28387048,\n",
    "                  0.16338286,  -0.37188571,  0.81583238,    1.22253714,   3.61266286,\n",
    "                  0.24752762,   0.07504762,  31.2256    ])\n",
    "\n",
    "STD = np.array([0.38184109,  0.72897371,  2.7642141,   0.46163168,  0.24920543, 17.25409012,\n",
    "                0.39782371,  0.74267694,  2.72513013,  0.45087474,  0.39428699, 10.23517679,\n",
    "                0.38762083,  0.73576464,  2.64014798,  0.43157583,  0.29355984, 17.34107153])\n",
    "\n",
    "def Normalize(Input, Mean, STD):\n",
    "    Input_normalized = (np.array(Input)-np.array(mean))/np.array(STD)\n",
    "    return Input_normalized"
   ]
  },
  {
   "cell_type": "code",
   "execution_count": 31,
   "id": "b124a9e1-5913-480a-a34a-2a073f88df84",
   "metadata": {},
   "outputs": [],
   "source": [
    "mylist = ['Number 1',\n",
    "          'Number 2',\n",
    "          'Number 3']"
   ]
  },
  {
   "cell_type": "code",
   "execution_count": 104,
   "id": "b204c71f-41af-42c2-9b1f-68d389d3992e",
   "metadata": {},
   "outputs": [
    {
     "name": "stdout",
     "output_type": "stream",
     "text": [
      "1/1 [==============================] - 0s 63ms/step\n",
      "Number 3\n",
      "0.9629633\n",
      "Number 2\n",
      "0.036983952\n"
     ]
    }
   ],
   "source": [
    "XX_test = np.zeros((1,30,18))\n",
    "for i in range(30):\n",
    "    A = np.array([[0, 0, 0, 0, 0, 0], #Stand #Near #Activity #Talking #pointed #angle\n",
    "                [1, 2, 1, 0, 0, 0],\n",
    "                [1, 1, 4, 1, 0, 60]])\n",
    "    A = A.reshape(1,18)\n",
    "    A = Normalize(A, mean, STD)\n",
    "    XX_test[0,i] = A\n",
    "\n",
    "a = loaded_model2.predict(XX_test)\n",
    "b = a.argmax()\n",
    "print(mylist[b])\n",
    "print(a[0,b])\n",
    "\n",
    "a[0,b] = 0\n",
    "b = a.argmax()\n",
    "print(mylist[b])\n",
    "print(a[0,b])\n",
    "\n",
    "#a[0,b] = 0\n",
    "#b = a.argmax()\n",
    "#print(mylist[b])\n",
    "#print(a[0,b])"
   ]
  },
  {
   "cell_type": "code",
   "execution_count": 27,
   "id": "fdd978d9-ff91-4c5f-b222-00ec24b45e7f",
   "metadata": {},
   "outputs": [
    {
     "data": {
      "text/plain": [
       "array([ 0.4642419 , -0.315064  ,  1.11028679, -0.66728426, -0.26696804,\n",
       "       -2.50406476,  0.49584883,  1.08355708,  1.18690344, -0.62960389,\n",
       "       -0.41418428,  5.92436436, -2.10509592, -1.66166917, -1.36850636,\n",
       "       -0.57328954, -0.25564814, -1.80065627])"
      ]
     },
     "execution_count": 27,
     "metadata": {},
     "output_type": "execute_result"
    }
   ],
   "source": [
    "Model_data_normal_sequence[0,-1]"
   ]
  },
  {
   "cell_type": "code",
   "execution_count": 28,
   "id": "3fe46768-56b7-4d85-94ea-dff135e80dfc",
   "metadata": {},
   "outputs": [
    {
     "data": {
      "text/plain": [
       "array([9.995666e-01, 3.471760e-04, 8.610123e-05], dtype=float32)"
      ]
     },
     "execution_count": 28,
     "metadata": {},
     "output_type": "execute_result"
    }
   ],
   "source": [
    "y_pred[0]"
   ]
  },
  {
   "cell_type": "code",
   "execution_count": 29,
   "id": "d311b471-c79b-44a2-9676-c553097b1790",
   "metadata": {},
   "outputs": [],
   "source": [
    "#y_pred = model.predict(X_train)\n",
    "#y_pred = loaded_model.predict(Model_data_normal_sequence)\n",
    "Label = np.zeros(y_pred.shape[0],dtype='int') \n",
    "for i in range(Label.shape[0]):\n",
    "    a=y_pred[i]\n",
    "    a=a.argmax()\n",
    "    if Model_data_normal_sequence[250*30,-1,6*a]==0:\n",
    "        y_pred[i,a]=0\n",
    "        a=y_pred[i]\n",
    "        a=a.argmax()\n",
    "    Label[i] = a "
   ]
  },
  {
   "cell_type": "code",
   "execution_count": 30,
   "id": "cf683081-6981-40c9-a49f-a95aa9f6b2f2",
   "metadata": {},
   "outputs": [],
   "source": [
    "mylist = ['Number 1',\n",
    "          'Number 2',\n",
    "          'Number 3']"
   ]
  },
  {
   "cell_type": "code",
   "execution_count": 31,
   "id": "75095638-ed48-443e-85c2-d6edbe015a7e",
   "metadata": {},
   "outputs": [
    {
     "data": {
      "text/plain": [
       "array([  1.,   1.,   7.,   0.,   0., -45.,   1.,   2.,   7.,   0.,   0.,\n",
       "        30.,   0.,   0.,   0.,   0.,   0.,   0.])"
      ]
     },
     "execution_count": 31,
     "metadata": {},
     "output_type": "execute_result"
    }
   ],
   "source": [
    "Properties_res[100]"
   ]
  },
  {
   "cell_type": "code",
   "execution_count": 32,
   "id": "2f3f044a-05d2-44d0-831e-ca080d8c1425",
   "metadata": {},
   "outputs": [],
   "source": [
    "def Participants_look(Object,i):\n",
    "    XX = 0\n",
    "    YY = 0\n",
    "\n",
    "    if Object =='Number 1':\n",
    "        if Properties_res[i,1]==1:\n",
    "            XX = int(5.5*Properties_res[i,5]+512.5)\n",
    "            YY = int(415)\n",
    "\n",
    "        else:\n",
    "            XX = int(10.66*Properties_res[i,5]+740)\n",
    "            YY = int(435)\n",
    "           \n",
    "            \n",
    "    elif Object =='Number 2':\n",
    "        if Properties_res[i,7]==1:\n",
    "            XX = int(11.06*Properties_res[i,11]+930)\n",
    "            YY = int(415)\n",
    "        else:                       \n",
    "            XX = int(14.66*Properties_res[i,11]+940)\n",
    "            YY = int(435)\n",
    "                \n",
    "                    \n",
    "    elif Object =='Number 3':\n",
    "        if Properties_res[i,12]==1:\n",
    "            XX = int(7.33*Properties_res[i,17]+1270)\n",
    "            YY = int(415)\n",
    "                \n",
    "        else:\n",
    "            XX = int(10.66*Properties_res[i,17]+1180)\n",
    "            YY = int(435)\n",
    "\n",
    "    return XX,YY\n",
    "            "
   ]
  },
  {
   "cell_type": "code",
   "execution_count": 33,
   "id": "a1e94469-f9df-444e-8be1-53c93388a01d",
   "metadata": {},
   "outputs": [],
   "source": [
    "from scipy.stats import multivariate_normal\n",
    "\n",
    "def Star(Object,i):\n",
    "    max_rep = 0\n",
    "    multipy = 100  #50\n",
    "    power = 2 #2\n",
    "    XX = 0\n",
    "    YY = 0\n",
    "\n",
    "    if Object =='Number 1':\n",
    "        if Properties_res[i,1]==1:\n",
    "            if Properties_res[i,2]!=7 and Properties_res[i,2]!=2:\n",
    "                max_rep = 0\n",
    "                #max_rep = 6\n",
    "                #XX = int(5.5*Properties_res[i,5]+512.5)\n",
    "                #YY = int(415)\n",
    "                Mean1N = np.array([265, 415])\n",
    "                cov1N = np.array([[440, 73],[73, 730]])\n",
    "                while max_rep<5:\n",
    "                    x, y = np.random.multivariate_normal(Mean1N, cov1N, 1).T\n",
    "                    var = multivariate_normal(mean=Mean1N, cov=cov1N)\n",
    "                    max_rep = round((var.pdf(np.array([x[0],y[0]]))/var.pdf(Mean1N))**power*multipy)\n",
    "                    XX = round(x[0])\n",
    "                    YY = round(y[0])\n",
    "            else:\n",
    "                XX = int(5.5*Properties_res[i,5]+512.5)\n",
    "                YY = int(415)\n",
    "\n",
    "        else:\n",
    "            if Properties_res[i,2]!=7 and Properties_res[i,2]!=2:\n",
    "                max_rep = 0\n",
    "                Mean1F = np.array([420, 435])\n",
    "                cov1F = np.array([[232, 28],[28, 534]])\n",
    "                while max_rep<5:\n",
    "                    x, y = np.random.multivariate_normal(Mean1F, cov1F, 1).T\n",
    "                    var = multivariate_normal(mean=Mean1F, cov=cov1F)\n",
    "                    max_rep = round((var.pdf(np.array([x[0],y[0]]))/var.pdf(Mean1F))**power*multipy)\n",
    "                    XX = round(x[0])\n",
    "                    YY = round(y[0])\n",
    "            else:\n",
    "                XX = int(10.66*Properties_res[i,5]+740)\n",
    "                YY = int(435)\n",
    "           \n",
    "            \n",
    "    elif Object =='Number 2':\n",
    "        if Properties_res[i,7]==1:\n",
    "            if Properties_res[i,8]!=7 and Properties_res[i,8]!=2:\n",
    "                max_rep = 0\n",
    "                Mean2N = np.array([930, 415])\n",
    "                cov2N = np.array([[442, 34],[34, 447]])\n",
    "                while max_rep<5:\n",
    "                    x, y = np.random.multivariate_normal(Mean2N, cov2N, 1).T\n",
    "                    var = multivariate_normal(mean=Mean2N, cov=cov2N)\n",
    "                    max_rep = round((var.pdf(np.array([x[0],y[0]]))/var.pdf(Mean2N))**power*multipy)\n",
    "                    XX = round(x[0])\n",
    "                    YY = round(y[0])\n",
    "            else:\n",
    "                XX = int(11.06*Properties_res[i,11]+930)\n",
    "                YY = int(415)\n",
    "        else:                       \n",
    "            if Properties_res[i,8]!=7 and Properties_res[i,8]!=2:\n",
    "                max_rep = 0\n",
    "                Mean2F = np.array([940, 435])\n",
    "                cov2F = np.array([[216, 48],[48, 464]])\n",
    "                while max_rep<5:\n",
    "                    x, y = np.random.multivariate_normal(Mean2F, cov2F, 1).T\n",
    "                    var = multivariate_normal(mean=Mean2F, cov=cov2F)\n",
    "                    max_rep = round((var.pdf(np.array([x[0],y[0]]))/var.pdf(Mean2F))**power*multipy)\n",
    "                    XX = round(x[0])\n",
    "                    YY = round(y[0])\n",
    "            else:\n",
    "                XX = int(14.66*Properties_res[i,11]+940)\n",
    "                YY = int(435)\n",
    "                \n",
    "                    \n",
    "    elif Object =='Number 3':\n",
    "        if Properties_res[i,12]==1:\n",
    "            if Properties_res[i,13]!=7 and Properties_res[i,13]!=2:\n",
    "                max_rep = 0\n",
    "                Mean3N = np.array([1600, 415])\n",
    "                cov3N = np.array([[440, 73],[73, 730]])\n",
    "                while max_rep<5:\n",
    "                    x, y = np.random.multivariate_normal(Mean3N, cov3N, 1).T\n",
    "                    var = multivariate_normal(mean=Mean3N, cov=cov3N)\n",
    "                    max_rep = round((var.pdf(np.array([x[0],y[0]]))/var.pdf(Mean3N))**power*multipy)\n",
    "                    XX = round(x[0])\n",
    "                    YY = round(y[0])\n",
    "                \n",
    "            else:\n",
    "                XX = int(7.33*Properties_res[i,17]+1270)\n",
    "                YY = int(415)\n",
    "                \n",
    "        else:\n",
    "            if Properties_res[i,12]!=7 and Properties_res[i,12]!=2:\n",
    "                max_rep = 0\n",
    "                Mean3F = np.array([1500, 435])\n",
    "                cov3F = np.array([[232, 28],[28, 534]])\n",
    "                while max_rep<5:\n",
    "                    x, y = np.random.multivariate_normal(Mean3F, cov3F, 1).T\n",
    "                    var = multivariate_normal(mean=Mean3F, cov=cov3F)\n",
    "                    max_rep = round((var.pdf(np.array([x[0],y[0]]))/var.pdf(Mean3F))**power*multipy)\n",
    "                    XX = round(x[0])\n",
    "                    YY = round(y[0])\n",
    "            else:\n",
    "                XX = int(10.66*Properties_res[i,17]+1180)\n",
    "                YY = int(435)\n",
    "\n",
    "    return XX,YY, max_rep\n",
    "            \n",
    "            "
   ]
  },
  {
   "cell_type": "code",
   "execution_count": 34,
   "id": "f2220aa1-ed97-4717-b06b-194246288091",
   "metadata": {},
   "outputs": [],
   "source": [
    "cap = cv2.VideoCapture(r'F:\\Courses\\Paper\\Mine\\Paper3\\Animation\\For recording\\Animation-Part 1.mkv')\n",
    "\n",
    "record = 1\n",
    "delta = 1\n",
    "\n",
    "width = int(cap.get(cv2.CAP_PROP_FRAME_WIDTH) + 0.5)\n",
    "height = int(cap.get(cv2.CAP_PROP_FRAME_HEIGHT) + 0.5)\n",
    "size = (width, height)\n",
    "if record == 1:\n",
    "    fourcc = cv2.VideoWriter_fourcc(*'XVID')\n",
    "    out = cv2.VideoWriter(r\"F:\\Courses\\Paper\\Mine\\Paper3/\"+namerec+\".avi\", fourcc, 30.0, size)\n",
    "\n",
    "    \n",
    "#Parameters    \n",
    "i = 0\n",
    "w = 0\n",
    "counter = 0\n",
    "max_rep = 0\n",
    "str_count = \"Hi\"\n",
    "XX_old = 1920/2\n",
    "YY_old = 900\n",
    "\n",
    "while(cap.isOpened()):\n",
    "    \n",
    "    #For python\n",
    "    ret, frame = cap.read()\n",
    "    if ret == False or i==30*5*60:\n",
    "        break\n",
    "        \n",
    "        \n",
    "    \n",
    "        \n",
    "    cv2.namedWindow(\"frame\", cv2.WINDOW_NORMAL)        # Create window with freedom of dimensions\n",
    "    cv2.resizeWindow(\"frame\", 2000, 800)\n",
    "    rgb_frame = cv2.cvtColor(frame, cv2.COLOR_BGR2RGB)\n",
    "\n",
    "    #For time\n",
    "    cv2.putText(frame,\"t=\"+str(round(i/30,2))+\"s\", (100,100), cv2.FONT_HERSHEY_SIMPLEX, 1,(255,255,255),2)\n",
    "    \n",
    "    #Participants\n",
    "    #for j in Persons_inter:\n",
    "    #    Look_X, Look_Y = Participants_look(Model_label[int(j)+i],i)\n",
    "    #    cv2.putText(frame, \"*\", (Look_X, Look_Y), cv2.FONT_HERSHEY_SIMPLEX, 1,(0,0,255),2) #Detecter Model\n",
    "        \n",
    "    for j in range(Persons_inter.shape[0]):\n",
    "        angle = j * (2 * math.pi / Persons_inter.shape[0])\n",
    "        x =  radius * math.cos(angle)\n",
    "        y =  radius * math.sin(angle)\n",
    "        Look_X, Look_Y = Participants_look(Model_label[int(Persons_inter[j])+i],i)\n",
    "        if Look_X>0:\n",
    "            cv2.putText(frame, \"*\", (Look_X+int(x), Look_Y+int(y)), cv2.FONT_HERSHEY_SIMPLEX, 1,(0,0,255),2) #Detecter Model\n",
    "            \n",
    "\n",
    "\n",
    "    #For detect\n",
    "    if i >= sequence:\n",
    "        #Update after delta\n",
    "        if i%delta == 0: \n",
    "            A = Label[w]\n",
    "            w = w + 1\n",
    "\n",
    "        if str_count != mylist[A] or counter >= max_rep:\n",
    "            str_count = mylist[A]\n",
    "            XX, YY, max_rep = Star(mylist[A],i) \n",
    "            counter = 0\n",
    "        else:\n",
    "            counter = counter + 1\n",
    "\n",
    "    else:\n",
    "        XX = int(XX_old)\n",
    "        YY = int(YY_old)\n",
    "\n",
    "    XX_draw = int(XX_old + (XX - XX_old)/10)\n",
    "    YY_draw = int(YY_old + (YY - YY_old)/10)\n",
    "\n",
    "    XX_old = XX_draw\n",
    "    YY_old = YY_draw\n",
    "\n",
    "\n",
    "    cv2.putText(frame, \"*\", (XX_draw, YY_draw), cv2.FONT_HERSHEY_SIMPLEX, 1,(255,255,255),2) #Detecter Model\n",
    "\n",
    "\n",
    "    if record==1:\n",
    "        out.write(frame)\n",
    "        \n",
    "    if i%30==0:\n",
    "        Name_photo = \"Paper3-Photo\"+str(i)\n",
    "        cv2.imwrite(r\"F:\\Courses\\Paper\\Mine\\Paper3\\Snapshots/\"+Name_photo+'.jpg', frame)\n",
    "\n",
    "    cv2.imshow('frame', frame)\n",
    "    \n",
    "    i += 1\n",
    "    if cv2.waitKey(1) & 0xFF == ord('q'):\n",
    "        break\n",
    "    cv2.waitKey(1)\n",
    "    \n",
    "    \n",
    "cap.release()\n",
    "cv2.destroyAllWindows()"
   ]
  },
  {
   "cell_type": "code",
   "execution_count": null,
   "id": "bcbea9d0-294d-4b81-bb0d-a45972ee45e1",
   "metadata": {},
   "outputs": [],
   "source": [
    "cap.release()\n",
    "out.release()\n",
    "cv2.destroyAllWindows()"
   ]
  },
  {
   "cell_type": "code",
   "execution_count": null,
   "id": "c8743e02-6b61-481a-aa9f-1bf571e19444",
   "metadata": {},
   "outputs": [],
   "source": [
    "# for i in Label:\n",
    "#     print(i)"
   ]
  },
  {
   "cell_type": "code",
   "execution_count": null,
   "id": "b8e889da-b554-433b-8ba7-2d77d42ada97",
   "metadata": {},
   "outputs": [],
   "source": [
    "Label[0]"
   ]
  },
  {
   "cell_type": "code",
   "execution_count": null,
   "id": "46347a94-050a-40dd-8b89-ab9bf583b668",
   "metadata": {},
   "outputs": [],
   "source": [
    "Star(\"Number 1\",31)"
   ]
  },
  {
   "cell_type": "code",
   "execution_count": null,
   "id": "2e529275-9a12-47c4-9f2e-9d74216c7c42",
   "metadata": {},
   "outputs": [],
   "source": [
    "Properties_res[31]"
   ]
  },
  {
   "cell_type": "code",
   "execution_count": null,
   "id": "cc6a00bb-6dcc-4872-988c-3f269c448186",
   "metadata": {},
   "outputs": [],
   "source": [
    "Mean1N = np.array([265, 415])\n",
    "cov1N = np.array([[440, 34],[34, 730]])\n",
    "x, y = np.random.multivariate_normal(Mean1N, cov1N, 1).T\n",
    "var = multivariate_normal(mean=Mean1N, cov=cov1N)\n",
    "max_rep = round((var.pdf(np.array([x[0],y[0]]))/var.pdf(Mean1N))**power*multipy)"
   ]
  },
  {
   "cell_type": "code",
   "execution_count": null,
   "id": "5a7fadc5-8260-4212-9c4e-c0855cc8a47f",
   "metadata": {},
   "outputs": [],
   "source": [
    "x"
   ]
  },
  {
   "cell_type": "code",
   "execution_count": null,
   "id": "0c19b6a3-62d1-4032-82ea-d951ea029e0b",
   "metadata": {},
   "outputs": [],
   "source": [
    "Properties_res[i]"
   ]
  },
  {
   "cell_type": "code",
   "execution_count": null,
   "id": "63da2b03-0a61-4c24-98a7-127c20523ea3",
   "metadata": {},
   "outputs": [],
   "source": [
    "i"
   ]
  },
  {
   "cell_type": "code",
   "execution_count": null,
   "id": "d2a2fdb1-dfd3-4422-b520-adfc978bd4ab",
   "metadata": {},
   "outputs": [],
   "source": [
    "Label[250*30]"
   ]
  },
  {
   "cell_type": "code",
   "execution_count": null,
   "id": "5f3ef213-8ced-479c-9fcf-622c2d8e4ec9",
   "metadata": {},
   "outputs": [],
   "source": [
    "y_pred[250*30]"
   ]
  },
  {
   "cell_type": "code",
   "execution_count": null,
   "id": "8d7ff470-ddfa-4099-a428-1aef41352e78",
   "metadata": {},
   "outputs": [],
   "source": [
    "Model_data_normal_sequence[250*30,-1]"
   ]
  },
  {
   "cell_type": "code",
   "execution_count": null,
   "id": "091870f3-9dda-4425-9f4f-1bf31b0273dd",
   "metadata": {},
   "outputs": [],
   "source": [
    "if Model_data_normal_sequence[250*30,-1]"
   ]
  },
  {
   "cell_type": "code",
   "execution_count": null,
   "id": "239c08da-da14-44be-b1b6-0e33aa77d636",
   "metadata": {},
   "outputs": [],
   "source": [
    "a=y_pred[250*30]\n",
    "a=a.argmax()\n",
    "if Model_data_normal_sequence[250*30,-1,6*a]==0:\n",
    "    y_pred[250*30,a]=0\n",
    "    a=y_pred[250*30]\n",
    "    a=a.argmax()"
   ]
  },
  {
   "cell_type": "code",
   "execution_count": null,
   "id": "cab8d48b-1766-4194-8faa-23705de94b7b",
   "metadata": {},
   "outputs": [],
   "source": [
    "Model_data_normal_sequence[250*30,-1,6*a]==0"
   ]
  },
  {
   "cell_type": "code",
   "execution_count": null,
   "id": "03b22261-1b93-466f-bf79-aabc3d78aa04",
   "metadata": {},
   "outputs": [],
   "source": [
    "for j in Persons_inter:\n",
    "    print(int(j))\n",
    "    #Look_X, Look_Y = Participants_look(Model_label[j+i],i)\n",
    "    #cv2.putText(frame, \"*\", (Look_X, Look_Y), cv2.FONT_HERSHEY_SIMPLEX, 1,(0,0,255),2) #Detecter Model"
   ]
  },
  {
   "cell_type": "code",
   "execution_count": null,
   "id": "94c83ae1-2af1-4a94-9387-27f7df4071d0",
   "metadata": {},
   "outputs": [],
   "source": [
    "import math\n",
    "\n",
    "radius = 30  # Radius of the circle\n",
    "num_stars = 11  # Number of stars\n",
    "\n",
    "for i in range(num_stars):\n",
    "    angle = i * (2 * math.pi / num_stars)\n",
    "    x =  radius * math.cos(angle)\n",
    "    y =  radius * math.sin(angle)\n",
    "    print(x,y)"
   ]
  },
  {
   "cell_type": "code",
   "execution_count": null,
   "id": "ebbe78c2-035a-47e1-800c-63292b53495b",
   "metadata": {},
   "outputs": [],
   "source": [
    "x"
   ]
  },
  {
   "cell_type": "code",
   "execution_count": null,
   "id": "a3dd0599-8bdd-4281-82dc-d902b652d3b8",
   "metadata": {},
   "outputs": [],
   "source": [
    "y"
   ]
  },
  {
   "cell_type": "code",
   "execution_count": null,
   "id": "23abd4a1-e1e0-4c23-89a5-5b0116a902c1",
   "metadata": {},
   "outputs": [],
   "source": [
    "61%30"
   ]
  },
  {
   "cell_type": "code",
   "execution_count": null,
   "id": "6492fc9e-5f17-48b3-9865-75906bcf6ca4",
   "metadata": {},
   "outputs": [],
   "source": []
  }
 ],
 "metadata": {
  "kernelspec": {
   "display_name": "Python 3 (ipykernel)",
   "language": "python",
   "name": "python3"
  },
  "language_info": {
   "codemirror_mode": {
    "name": "ipython",
    "version": 3
   },
   "file_extension": ".py",
   "mimetype": "text/x-python",
   "name": "python",
   "nbconvert_exporter": "python",
   "pygments_lexer": "ipython3",
   "version": "3.10.9"
  }
 },
 "nbformat": 4,
 "nbformat_minor": 5
}
