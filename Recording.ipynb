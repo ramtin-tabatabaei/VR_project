{
 "cells": [
  {
   "cell_type": "code",
   "execution_count": 1,
   "id": "0656aa14-8e81-4b3b-bf2b-e2fb8f1ea992",
   "metadata": {},
   "outputs": [],
   "source": [
    "#It is a good code for recorning the video For Real"
   ]
  },
  {
   "cell_type": "code",
   "execution_count": 2,
   "id": "22511e53-1781-4b0d-ada0-31203fb3b454",
   "metadata": {},
   "outputs": [],
   "source": [
    "%matplotlib inline\n",
    "import numpy as np\n",
    "import cv2\n",
    "import random\n",
    "import datetime as dt\n",
    "import tensorflow as tf\n",
    "from collections import deque\n",
    "import matplotlib.pyplot as plt\n",
    "from tensorflow.keras.layers import *\n",
    "from tensorflow.keras.models import Sequential\n",
    "from tensorflow.keras.utils import to_categorical\n",
    "from tensorflow.keras.callbacks import EarlyStopping\n",
    "from tensorflow.keras.utils import plot_model"
   ]
  },
  {
   "cell_type": "code",
   "execution_count": 3,
   "id": "d919ad22-670b-4033-9db0-e1464ef2fe76",
   "metadata": {},
   "outputs": [],
   "source": [
    "#Parameters\n",
    "record = 1 # on=1 off=0\n",
    "namerec = \"sequence30-NTD10-K1-LSTM\""
   ]
  },
  {
   "cell_type": "code",
   "execution_count": 4,
   "id": "b8f00468-2abd-4c76-ac4b-2d7fd4759173",
   "metadata": {},
   "outputs": [],
   "source": [
    "import pandas as pd\n",
    "\n",
    "# Load the Excel file into a DataFrame\n",
    "df = pd.read_excel(r'F:\\Courses\\Paper\\Mine\\Paper3\\Animation\\For recording\\Properties-Part1.xlsx', sheet_name='Sheet1')\n",
    "\n",
    "# Select the values from row 3 and onwards\n",
    "Properties = df.values[1:]"
   ]
  },
  {
   "cell_type": "code",
   "execution_count": 5,
   "id": "b9c59e76-ffac-43ec-8f67-c96d01d47915",
   "metadata": {},
   "outputs": [],
   "source": [
    "import numpy as np\n",
    "\n",
    "# Assume the data array is already loaded into a variable named 'data'\n",
    "\n",
    "# Find the indices where the values are \"N\" or \"F\"\n",
    "idx_n = np.where(Properties == np.array([\"N\"], dtype=str))\n",
    "idx_f = np.where(Properties == np.array([\"F\"], dtype=str))\n",
    "\n",
    "# Replace \"N\" with \"1\"\n",
    "Properties[idx_n] = 1\n",
    "\n",
    "# Replace \"F\" with \"2\"\n",
    "Properties[idx_f] = 2\n"
   ]
  },
  {
   "cell_type": "code",
   "execution_count": 6,
   "id": "330f8b0f-b0ef-4da4-8b36-f85fdd841329",
   "metadata": {},
   "outputs": [],
   "source": [
    "Properties = np.array(Properties)\n",
    "Properties = Properties.astype(float)"
   ]
  },
  {
   "cell_type": "code",
   "execution_count": 7,
   "id": "cc2c9608-48f8-48f5-9ee3-5f3f91df00ea",
   "metadata": {},
   "outputs": [],
   "source": [
    "resulotion = 1/30\n",
    "Dim = round((Properties[-1,0]-Properties[0,0])/resulotion)\n",
    "Properties_res = np.zeros((Dim, Properties.shape[1]))\n",
    "t0 = 0\n",
    "tf = 303\n",
    "t = t0\n",
    "Properties_inter = 0\n",
    "\n",
    "for i in range(Dim):\n",
    "    Properties_res[i] = Properties[Properties_inter]\n",
    "    Properties_res[i,0] = t\n",
    "    if t >= Properties[Properties_inter+1,0]:\n",
    "        Properties_inter += 1\n",
    "    \n",
    "    t += resulotion"
   ]
  },
  {
   "cell_type": "code",
   "execution_count": 8,
   "id": "89309a06-e8ec-4246-81ba-d90f520402aa",
   "metadata": {},
   "outputs": [],
   "source": [
    "Properties_res = np.array(Properties_res[:,1:19])"
   ]
  },
  {
   "cell_type": "code",
   "execution_count": 9,
   "id": "daafaf02-0085-4de8-be3b-f62721b314e9",
   "metadata": {},
   "outputs": [
    {
     "data": {
      "text/plain": [
       "(9090, 18)"
      ]
     },
     "execution_count": 9,
     "metadata": {},
     "output_type": "execute_result"
    }
   ],
   "source": [
    "Properties_res.shape"
   ]
  },
  {
   "cell_type": "code",
   "execution_count": 10,
   "id": "161ba44f-9042-495b-85be-b3a447fa6baf",
   "metadata": {},
   "outputs": [],
   "source": [
    "sequence = 30\n",
    "Model_data_normal_sequence = np.zeros((Properties_res.shape[0],sequence,Properties_res.shape[1]),dtype='float')\n",
    "inter = 0\n",
    "for i in range(Model_data_normal_sequence.shape[0]-sequence):\n",
    "    for j in range(sequence):\n",
    "        Model_data_normal_sequence[inter,j] = Properties_res[i+j]\n",
    "    inter += 1\n",
    "        \n",
    "Model_data_normal_sequence = np.array(Model_data_normal_sequence[0:inter])"
   ]
  },
  {
   "cell_type": "code",
   "execution_count": 11,
   "id": "14b9705d-bb05-4b4c-a47e-34ab8ec5b4b4",
   "metadata": {},
   "outputs": [],
   "source": [
    "import tensorflow as tf\n",
    "from tensorflow import keras\n",
    "import h5py\n",
    "\n",
    "# Load the model from the HDF5 file\n",
    "loaded_model = keras.models.load_model(r'F:\\Courses\\Paper\\Mine\\Paper3\\Results\\LSTM-K2-TTP0.8-sequence30.h5')"
   ]
  },
  {
   "cell_type": "code",
   "execution_count": 12,
   "id": "f55c9e88-b216-461d-8333-d364687eb247",
   "metadata": {},
   "outputs": [
    {
     "name": "stdout",
     "output_type": "stream",
     "text": [
      "284/284 [==============================] - 5s 10ms/step\n"
     ]
    }
   ],
   "source": [
    "y_pred = loaded_model.predict(Model_data_normal_sequence)\n"
   ]
  },
  {
   "cell_type": "code",
   "execution_count": 13,
   "id": "fdd978d9-ff91-4c5f-b222-00ec24b45e7f",
   "metadata": {},
   "outputs": [
    {
     "data": {
      "text/plain": [
       "array([  1.,   1.,   7.,   0.,   0., -75.,   1.,   2.,   7.,   0.,   0.,\n",
       "        60.,   0.,   0.,   0.,   0.,   0.,   0.])"
      ]
     },
     "execution_count": 13,
     "metadata": {},
     "output_type": "execute_result"
    }
   ],
   "source": [
    "Model_data_normal_sequence[0,-1]"
   ]
  },
  {
   "cell_type": "code",
   "execution_count": 14,
   "id": "3fe46768-56b7-4d85-94ea-dff135e80dfc",
   "metadata": {},
   "outputs": [
    {
     "data": {
      "text/plain": [
       "array([0.5290264 , 0.47017723, 0.0007964 ], dtype=float32)"
      ]
     },
     "execution_count": 14,
     "metadata": {},
     "output_type": "execute_result"
    }
   ],
   "source": [
    "y_pred[0]"
   ]
  },
  {
   "cell_type": "code",
   "execution_count": 15,
   "id": "d311b471-c79b-44a2-9676-c553097b1790",
   "metadata": {},
   "outputs": [
    {
     "name": "stdout",
     "output_type": "stream",
     "text": [
      "284/284 [==============================] - 3s 11ms/step\n"
     ]
    }
   ],
   "source": [
    "#y_pred = model.predict(X_train)\n",
    "y_pred = loaded_model.predict(Model_data_normal_sequence)\n",
    "Label = np.zeros(y_pred.shape[0],dtype='int') \n",
    "for i in range(Label.shape[0]):\n",
    "    a=y_pred[i]\n",
    "    a=a.argmax()\n",
    "    if Model_data_normal_sequence[250*30,-1,6*a]==0:\n",
    "        y_pred[i,a]=0\n",
    "        a=y_pred[i]\n",
    "        a=a.argmax()\n",
    "    Label[i] = a "
   ]
  },
  {
   "cell_type": "code",
   "execution_count": 16,
   "id": "cf683081-6981-40c9-a49f-a95aa9f6b2f2",
   "metadata": {},
   "outputs": [],
   "source": [
    "mylist = ['Number 1',\n",
    "          'Number 2',\n",
    "          'Number 3']"
   ]
  },
  {
   "cell_type": "code",
   "execution_count": 17,
   "id": "75095638-ed48-443e-85c2-d6edbe015a7e",
   "metadata": {},
   "outputs": [
    {
     "data": {
      "text/plain": [
       "array([  1.,   1.,   7.,   0.,   0., -45.,   1.,   2.,   7.,   0.,   0.,\n",
       "        30.,   0.,   0.,   0.,   0.,   0.,   0.])"
      ]
     },
     "execution_count": 17,
     "metadata": {},
     "output_type": "execute_result"
    }
   ],
   "source": [
    "Properties_res[100]"
   ]
  },
  {
   "cell_type": "code",
   "execution_count": 18,
   "id": "a1e94469-f9df-444e-8be1-53c93388a01d",
   "metadata": {},
   "outputs": [],
   "source": [
    "from scipy.stats import multivariate_normal\n",
    "\n",
    "def Star(Object,i):\n",
    "    max_rep = 0\n",
    "    multipy = 100  #50\n",
    "    power = 2 #2\n",
    "    XX = 0\n",
    "    YY = 0\n",
    "\n",
    "    if Object =='Number 1':\n",
    "        if Properties_res[i,1]==1:\n",
    "            if Properties_res[i,2]!=7 and Properties_res[i,2]!=2:\n",
    "                max_rep = 0\n",
    "                #max_rep = 6\n",
    "                #XX = int(5.5*Properties_res[i,5]+512.5)\n",
    "                #YY = int(415)\n",
    "                Mean1N = np.array([265, 415])\n",
    "                cov1N = np.array([[440, 73],[73, 730]])\n",
    "                while max_rep<5:\n",
    "                    x, y = np.random.multivariate_normal(Mean1N, cov1N, 1).T\n",
    "                    var = multivariate_normal(mean=Mean1N, cov=cov1N)\n",
    "                    max_rep = round((var.pdf(np.array([x[0],y[0]]))/var.pdf(Mean1N))**power*multipy)\n",
    "                    XX = round(x[0])\n",
    "                    YY = round(y[0])\n",
    "            else:\n",
    "                XX = int(5.5*Properties_res[i,5]+512.5)\n",
    "                YY = int(415)\n",
    "\n",
    "        else:\n",
    "            if Properties_res[i,2]!=7 and Properties_res[i,2]!=2:\n",
    "                max_rep = 0\n",
    "                Mean1F = np.array([420, 435])\n",
    "                cov1F = np.array([[232, 28],[28, 534]])\n",
    "                while max_rep<5:\n",
    "                    x, y = np.random.multivariate_normal(Mean1F, cov1F, 1).T\n",
    "                    var = multivariate_normal(mean=Mean1F, cov=cov1F)\n",
    "                    max_rep = round((var.pdf(np.array([x[0],y[0]]))/var.pdf(Mean1F))**power*multipy)\n",
    "                    XX = round(x[0])\n",
    "                    YY = round(y[0])\n",
    "            else:\n",
    "                XX = int(10.66*Properties_res[i,5]+740)\n",
    "                YY = int(435)\n",
    "           \n",
    "            \n",
    "    elif Object =='Number 2':\n",
    "        if Properties_res[i,7]==1:\n",
    "            if Properties_res[i,8]!=7 and Properties_res[i,8]!=2:\n",
    "                max_rep = 0\n",
    "                Mean2N = np.array([930, 415])\n",
    "                cov2N = np.array([[442, 34],[34, 447]])\n",
    "                while max_rep<5:\n",
    "                    x, y = np.random.multivariate_normal(Mean2N, cov2N, 1).T\n",
    "                    var = multivariate_normal(mean=Mean2N, cov=cov2N)\n",
    "                    max_rep = round((var.pdf(np.array([x[0],y[0]]))/var.pdf(Mean2N))**power*multipy)\n",
    "                    XX = round(x[0])\n",
    "                    YY = round(y[0])\n",
    "            else:\n",
    "                XX = int(11.06*Properties_res[i,11]+930)\n",
    "                YY = int(415)\n",
    "        else:                       \n",
    "            if Properties_res[i,8]!=7 and Properties_res[i,8]!=2:\n",
    "                max_rep = 0\n",
    "                Mean2F = np.array([940, 435])\n",
    "                cov2F = np.array([[216, 48],[48, 464]])\n",
    "                while max_rep<5:\n",
    "                    x, y = np.random.multivariate_normal(Mean2F, cov2F, 1).T\n",
    "                    var = multivariate_normal(mean=Mean2F, cov=cov2F)\n",
    "                    max_rep = round((var.pdf(np.array([x[0],y[0]]))/var.pdf(Mean2F))**power*multipy)\n",
    "                    XX = round(x[0])\n",
    "                    YY = round(y[0])\n",
    "            else:\n",
    "                XX = int(14.66*Properties_res[i,11]+940)\n",
    "                YY = int(435)\n",
    "                \n",
    "                    \n",
    "    elif Object =='Number 3':\n",
    "        if Properties_res[i,12]==1:\n",
    "            if Properties_res[i,13]!=7 and Properties_res[i,13]!=2:\n",
    "                max_rep = 0\n",
    "                Mean3N = np.array([1600, 415])\n",
    "                cov3N = np.array([[440, 73],[73, 730]])\n",
    "                while max_rep<5:\n",
    "                    x, y = np.random.multivariate_normal(Mean3N, cov3N, 1).T\n",
    "                    var = multivariate_normal(mean=Mean3N, cov=cov3N)\n",
    "                    max_rep = round((var.pdf(np.array([x[0],y[0]]))/var.pdf(Mean3N))**power*multipy)\n",
    "                    XX = round(x[0])\n",
    "                    YY = round(y[0])\n",
    "                \n",
    "            else:\n",
    "                XX = int(7.33*Properties_res[i,17]+1270)\n",
    "                YY = int(415)\n",
    "                \n",
    "        else:\n",
    "            if Properties_res[i,12]!=7 and Properties_res[i,12]!=2:\n",
    "                max_rep = 0\n",
    "                Mean3F = np.array([1500, 435])\n",
    "                cov3F = np.array([[232, 28],[28, 534]])\n",
    "                while max_rep<5:\n",
    "                    x, y = np.random.multivariate_normal(Mean3F, cov3F, 1).T\n",
    "                    var = multivariate_normal(mean=Mean3F, cov=cov3F)\n",
    "                    max_rep = round((var.pdf(np.array([x[0],y[0]]))/var.pdf(Mean3F))**power*multipy)\n",
    "                    XX = round(x[0])\n",
    "                    YY = round(y[0])\n",
    "            else:\n",
    "                XX = int(10.66*Properties_res[i,17]+1180)\n",
    "                YY = int(435)\n",
    "\n",
    "    return XX,YY, max_rep\n",
    "            \n",
    "            "
   ]
  },
  {
   "cell_type": "code",
   "execution_count": 19,
   "id": "f2220aa1-ed97-4717-b06b-194246288091",
   "metadata": {},
   "outputs": [],
   "source": [
    "cap = cv2.VideoCapture(r'F:\\Courses\\Paper\\Mine\\Paper3\\Animation\\For recording\\Animation-Part 1.mkv')\n",
    "\n",
    "record = 1\n",
    "delta = 1\n",
    "\n",
    "width = int(cap.get(cv2.CAP_PROP_FRAME_WIDTH) + 0.5)\n",
    "height = int(cap.get(cv2.CAP_PROP_FRAME_HEIGHT) + 0.5)\n",
    "size = (width, height)\n",
    "if record == 1:\n",
    "    fourcc = cv2.VideoWriter_fourcc(*'XVID')\n",
    "    out = cv2.VideoWriter(r\"F:\\Courses\\Paper\\Mine\\Paper3/\"+namerec+\".avi\", fourcc, 30.0, size)\n",
    "\n",
    "    \n",
    "#Parameters    \n",
    "i = 0\n",
    "w = 0\n",
    "counter = 0\n",
    "max_rep = 0\n",
    "str_count = \"Hi\"\n",
    "XX_old = 1920/2\n",
    "YY_old = 900\n",
    "\n",
    "while(cap.isOpened()):\n",
    "    \n",
    "    #For python\n",
    "    ret, frame = cap.read()\n",
    "    if ret == False or i==30*5*60:\n",
    "        break\n",
    "        \n",
    "    cv2.namedWindow(\"frame\", cv2.WINDOW_NORMAL)        # Create window with freedom of dimensions\n",
    "    cv2.resizeWindow(\"frame\", 2000, 800)\n",
    "    rgb_frame = cv2.cvtColor(frame, cv2.COLOR_BGR2RGB)\n",
    "\n",
    "    #For time\n",
    "    cv2.putText(frame,\"t=\"+str(round(i/30,2))+\"s\", (100,100), cv2.FONT_HERSHEY_SIMPLEX, 1,(255,255,255),2)\n",
    "\n",
    "\n",
    "    #For detect\n",
    "    if i >= sequence:\n",
    "        #Update after delta\n",
    "        if i%delta == 0: \n",
    "            A = Label[w]\n",
    "            w = w + 1\n",
    "\n",
    "        if str_count != mylist[A] or counter >= max_rep:\n",
    "            str_count = mylist[A]\n",
    "            XX, YY, max_rep = Star(mylist[A],i) \n",
    "            counter = 0\n",
    "        else:\n",
    "            counter = counter + 1\n",
    "\n",
    "    else:\n",
    "        XX = int(XX_old)\n",
    "        YY = int(YY_old)\n",
    "\n",
    "    XX_draw = int(XX_old + (XX - XX_old)/10)\n",
    "    YY_draw = int(YY_old + (YY - YY_old)/10)\n",
    "\n",
    "    XX_old = XX_draw\n",
    "    YY_old = YY_draw\n",
    "\n",
    "\n",
    "    cv2.putText(frame, \"*\", (XX_draw, YY_draw), cv2.FONT_HERSHEY_SIMPLEX, 1,(255,255,255),2) #Detecter Model\n",
    "\n",
    "\n",
    "    if record==1:\n",
    "        out.write(frame)\n",
    "\n",
    "    cv2.imshow('frame', frame)\n",
    "    \n",
    "    i += 1\n",
    "    if cv2.waitKey(1) & 0xFF == ord('q'):\n",
    "        break\n",
    "    cv2.waitKey(1)\n",
    "    \n",
    "    \n",
    "cap.release()\n",
    "cv2.destroyAllWindows()"
   ]
  },
  {
   "cell_type": "code",
   "execution_count": 20,
   "id": "bcbea9d0-294d-4b81-bb0d-a45972ee45e1",
   "metadata": {},
   "outputs": [],
   "source": [
    "cap.release()\n",
    "out.release()\n",
    "cv2.destroyAllWindows()"
   ]
  },
  {
   "cell_type": "code",
   "execution_count": 21,
   "id": "c8743e02-6b61-481a-aa9f-1bf571e19444",
   "metadata": {},
   "outputs": [],
   "source": [
    "# for i in Label:\n",
    "#     print(i)"
   ]
  },
  {
   "cell_type": "code",
   "execution_count": 22,
   "id": "b8e889da-b554-433b-8ba7-2d77d42ada97",
   "metadata": {},
   "outputs": [
    {
     "data": {
      "text/plain": [
       "0"
      ]
     },
     "execution_count": 22,
     "metadata": {},
     "output_type": "execute_result"
    }
   ],
   "source": [
    "Label[0]"
   ]
  },
  {
   "cell_type": "code",
   "execution_count": 23,
   "id": "46347a94-050a-40dd-8b89-ab9bf583b668",
   "metadata": {},
   "outputs": [
    {
     "data": {
      "text/plain": [
       "(100, 415, 0)"
      ]
     },
     "execution_count": 23,
     "metadata": {},
     "output_type": "execute_result"
    }
   ],
   "source": [
    "Star(\"Number 1\",31)"
   ]
  },
  {
   "cell_type": "code",
   "execution_count": 24,
   "id": "2e529275-9a12-47c4-9f2e-9d74216c7c42",
   "metadata": {},
   "outputs": [
    {
     "data": {
      "text/plain": [
       "array([  1.,   1.,   7.,   0.,   0., -75.,   1.,   2.,   7.,   0.,   0.,\n",
       "        60.,   0.,   0.,   0.,   0.,   0.,   0.])"
      ]
     },
     "execution_count": 24,
     "metadata": {},
     "output_type": "execute_result"
    }
   ],
   "source": [
    "Properties_res[31]"
   ]
  },
  {
   "cell_type": "code",
   "execution_count": 25,
   "id": "cc6a00bb-6dcc-4872-988c-3f269c448186",
   "metadata": {},
   "outputs": [
    {
     "ename": "NameError",
     "evalue": "name 'power' is not defined",
     "output_type": "error",
     "traceback": [
      "\u001b[1;31m---------------------------------------------------------------------------\u001b[0m",
      "\u001b[1;31mNameError\u001b[0m                                 Traceback (most recent call last)",
      "Cell \u001b[1;32mIn[25], line 5\u001b[0m\n\u001b[0;32m      3\u001b[0m x, y \u001b[38;5;241m=\u001b[39m np\u001b[38;5;241m.\u001b[39mrandom\u001b[38;5;241m.\u001b[39mmultivariate_normal(Mean1N, cov1N, \u001b[38;5;241m1\u001b[39m)\u001b[38;5;241m.\u001b[39mT\n\u001b[0;32m      4\u001b[0m var \u001b[38;5;241m=\u001b[39m multivariate_normal(mean\u001b[38;5;241m=\u001b[39mMean1N, cov\u001b[38;5;241m=\u001b[39mcov1N)\n\u001b[1;32m----> 5\u001b[0m max_rep \u001b[38;5;241m=\u001b[39m \u001b[38;5;28mround\u001b[39m((var\u001b[38;5;241m.\u001b[39mpdf(np\u001b[38;5;241m.\u001b[39marray([x[\u001b[38;5;241m0\u001b[39m],y[\u001b[38;5;241m0\u001b[39m]]))\u001b[38;5;241m/\u001b[39mvar\u001b[38;5;241m.\u001b[39mpdf(Mean1N))\u001b[38;5;241m*\u001b[39m\u001b[38;5;241m*\u001b[39m\u001b[43mpower\u001b[49m\u001b[38;5;241m*\u001b[39mmultipy)\n",
      "\u001b[1;31mNameError\u001b[0m: name 'power' is not defined"
     ]
    }
   ],
   "source": [
    "Mean1N = np.array([265, 415])\n",
    "cov1N = np.array([[440, 34],[34, 730]])\n",
    "x, y = np.random.multivariate_normal(Mean1N, cov1N, 1).T\n",
    "var = multivariate_normal(mean=Mean1N, cov=cov1N)\n",
    "max_rep = round((var.pdf(np.array([x[0],y[0]]))/var.pdf(Mean1N))**power*multipy)"
   ]
  },
  {
   "cell_type": "code",
   "execution_count": null,
   "id": "5a7fadc5-8260-4212-9c4e-c0855cc8a47f",
   "metadata": {},
   "outputs": [],
   "source": [
    "x"
   ]
  },
  {
   "cell_type": "code",
   "execution_count": null,
   "id": "0c19b6a3-62d1-4032-82ea-d951ea029e0b",
   "metadata": {},
   "outputs": [],
   "source": [
    "Properties_res[i]"
   ]
  },
  {
   "cell_type": "code",
   "execution_count": null,
   "id": "63da2b03-0a61-4c24-98a7-127c20523ea3",
   "metadata": {},
   "outputs": [],
   "source": [
    "i"
   ]
  },
  {
   "cell_type": "code",
   "execution_count": null,
   "id": "d2a2fdb1-dfd3-4422-b520-adfc978bd4ab",
   "metadata": {},
   "outputs": [],
   "source": [
    "Label[250*30]"
   ]
  },
  {
   "cell_type": "code",
   "execution_count": null,
   "id": "5f3ef213-8ced-479c-9fcf-622c2d8e4ec9",
   "metadata": {},
   "outputs": [],
   "source": [
    "y_pred[250*30]"
   ]
  },
  {
   "cell_type": "code",
   "execution_count": null,
   "id": "8d7ff470-ddfa-4099-a428-1aef41352e78",
   "metadata": {},
   "outputs": [],
   "source": [
    "Model_data_normal_sequence[250*30,-1]"
   ]
  },
  {
   "cell_type": "code",
   "execution_count": null,
   "id": "091870f3-9dda-4425-9f4f-1bf31b0273dd",
   "metadata": {},
   "outputs": [],
   "source": [
    "if Model_data_normal_sequence[250*30,-1]"
   ]
  },
  {
   "cell_type": "code",
   "execution_count": null,
   "id": "239c08da-da14-44be-b1b6-0e33aa77d636",
   "metadata": {},
   "outputs": [],
   "source": [
    "a=y_pred[250*30]\n",
    "a=a.argmax()\n",
    "if Model_data_normal_sequence[250*30,-1,6*a]==0:\n",
    "    y_pred[250*30,a]=0\n",
    "    a=y_pred[250*30]\n",
    "    a=a.argmax()"
   ]
  },
  {
   "cell_type": "code",
   "execution_count": null,
   "id": "cab8d48b-1766-4194-8faa-23705de94b7b",
   "metadata": {},
   "outputs": [],
   "source": [
    "Model_data_normal_sequence[250*30,-1,6*a]==0"
   ]
  },
  {
   "cell_type": "code",
   "execution_count": null,
   "id": "03b22261-1b93-466f-bf79-aabc3d78aa04",
   "metadata": {},
   "outputs": [],
   "source": []
  }
 ],
 "metadata": {
  "kernelspec": {
   "display_name": "Python 3 (ipykernel)",
   "language": "python",
   "name": "python3"
  },
  "language_info": {
   "codemirror_mode": {
    "name": "ipython",
    "version": 3
   },
   "file_extension": ".py",
   "mimetype": "text/x-python",
   "name": "python",
   "nbconvert_exporter": "python",
   "pygments_lexer": "ipython3",
   "version": "3.10.9"
  }
 },
 "nbformat": 4,
 "nbformat_minor": 5
}
