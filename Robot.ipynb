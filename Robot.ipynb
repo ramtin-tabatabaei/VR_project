{
 "cells": [
  {
   "cell_type": "code",
   "execution_count": 1,
   "id": "1f63bdbe-bf4d-4058-94b9-0a238aaeda19",
   "metadata": {},
   "outputs": [],
   "source": [
    "import numpy as np"
   ]
  },
  {
   "cell_type": "code",
   "execution_count": 3,
   "id": "82546372-196b-4ebc-88f8-8e01ee0d0819",
   "metadata": {},
   "outputs": [],
   "source": [
    "input = np.zeros((1,30,18))\n",
    "Positions = np.zeros((30,3,22), dtype=\"float\")\n",
    "Audio = np.zeros((30,1,2), dtype=\"float\")\n",
    "\n",
    "for i in range(30):\n",
    "    with open('F:\\Courses\\Paper\\Mine\\Paper3\\Results new/Pos.txt') as file:\n",
    "        B = file.read()\n",
    "        while len(B)==0:\n",
    "            B = file.read()\n",
    "        array_1d = np.array([float(x.strip()) for x in B.split(',')])\n",
    "        # Reshape the 1D array to a 3x22 array\n",
    "        array_2d = array_1d.reshape(3, 22)\n",
    "        Positions[i] = array_2d\n",
    "    with open('F:\\Courses\\Paper\\Mine\\Paper3\\Results new/Audio.txt') as file:\n",
    "        B = file.read()\n",
    "        while len(B)==0:\n",
    "            B = file.read()\n",
    "        array_1d = np.array([float(x.strip()) for x in B.split(',')])\n",
    "        # Reshape the 1D array to a 1x2 array\n",
    "        array_2d = array_1d.reshape(1, 2)\n",
    "        Audio[i] = array_2d"
   ]
  },
  {
   "cell_type": "code",
   "execution_count": 4,
   "id": "47ddde53-2d7f-451b-87f0-7e02b02a9129",
   "metadata": {},
   "outputs": [
    {
     "data": {
      "text/plain": [
       "array([[[0., 0., 0., ..., 0., 0., 0.],\n",
       "        [0., 0., 0., ..., 0., 0., 0.],\n",
       "        [0., 0., 0., ..., 0., 0., 0.]],\n",
       "\n",
       "       [[0., 0., 0., ..., 0., 0., 0.],\n",
       "        [0., 0., 0., ..., 0., 0., 0.],\n",
       "        [0., 0., 0., ..., 0., 0., 0.]],\n",
       "\n",
       "       [[0., 0., 0., ..., 0., 0., 0.],\n",
       "        [0., 0., 0., ..., 0., 0., 0.],\n",
       "        [0., 0., 0., ..., 0., 0., 0.]],\n",
       "\n",
       "       ...,\n",
       "\n",
       "       [[0., 0., 0., ..., 0., 0., 0.],\n",
       "        [0., 0., 0., ..., 0., 0., 0.],\n",
       "        [0., 0., 0., ..., 0., 0., 0.]],\n",
       "\n",
       "       [[0., 0., 0., ..., 0., 0., 0.],\n",
       "        [0., 0., 0., ..., 0., 0., 0.],\n",
       "        [0., 0., 0., ..., 0., 0., 0.]],\n",
       "\n",
       "       [[0., 0., 0., ..., 0., 0., 0.],\n",
       "        [0., 0., 0., ..., 0., 0., 0.],\n",
       "        [0., 0., 0., ..., 0., 0., 0.]]])"
      ]
     },
     "execution_count": 4,
     "metadata": {},
     "output_type": "execute_result"
    }
   ],
   "source": [
    "Positions"
   ]
  },
  {
   "cell_type": "code",
   "execution_count": 5,
   "id": "55c880e8-643d-426b-bd5a-3549ca2feb8d",
   "metadata": {},
   "outputs": [],
   "source": [
    "#     else:\n",
    "#         index = np.where(check == 1)[0]\n",
    "#         for i in range(30):\n",
    "#             for j in range(4):\n",
    "#                 if j == index:\n",
    "#                     continue\n",
    "#                 if Positions[i,j,1]>0.6: #Person Number 1\n",
    "#                     Positions_new[i,0] = Positions[i,j]\n",
    "#                 elif Positions[i,j,1]<0.6 and Positions[i,j,1]>0: #Person Number 2\n",
    "#                     Positions_new[i,1] = Positions[i,j]\n",
    "#                 elif Positions[i,j,1]<0 and Positions[i,j,1]>-0.6: #Person Number 3\n",
    "#                     Positions_new[i,2] = Positions[i,j]\n",
    "#                 elif Positions[i,j,1]<-0.6: #Person Number 4\n",
    "#                     Positions_new[i,3] = Positions[i,j]\n",
    "        \n",
    "#         for i in range(30):\n",
    "#             if index == 0 or index == 1:\n",
    "#                 if Positions_new[i,1,0] > 0: #meaning there is a person in position 2 \n",
    "#                     Positions_new[i ,0] = Positions[i,index]\n",
    "#                 else:\n",
    "#                     Positions_new[i ,1] = Positions[i,index]\n",
    "#             elif index == 2 or index == 3:\n",
    "#                 if Positions_new[i,2,0] > 0: #meaning there is a person in position 2 \n",
    "#                     Positions_new[i ,3] = Positions[i,index]\n",
    "#                 else:\n",
    "#                     Positions_new[i ,2] = Positions[i,index]"
   ]
  },
  {
   "cell_type": "code",
   "execution_count": 6,
   "id": "7a735df2-deee-4a14-83ef-e1d66747f903",
   "metadata": {},
   "outputs": [
    {
     "name": "stdout",
     "output_type": "stream",
     "text": [
      "[0 3 5 7]\n"
     ]
    }
   ],
   "source": [
    "import numpy as np\n",
    "\n",
    "# Create an example array\n",
    "arr = np.array([3, -1, 0, 5, -2, 7, 0, 8])\n",
    "\n",
    "# Get the indexes of numbers greater than 0\n",
    "indexes = np.where(arr > 0)[0]\n",
    "\n",
    "print(indexes)"
   ]
  },
  {
   "cell_type": "code",
   "execution_count": 9,
   "id": "c53d0d47-5b75-4af4-9640-4481f26b89a6",
   "metadata": {},
   "outputs": [
    {
     "data": {
      "text/plain": [
       "4"
      ]
     },
     "execution_count": 9,
     "metadata": {},
     "output_type": "execute_result"
    }
   ],
   "source": [
    "indexes.shape[0]"
   ]
  },
  {
   "cell_type": "code",
   "execution_count": 13,
   "id": "b1887209-f7b5-4d71-88f4-94c082a8e9ac",
   "metadata": {},
   "outputs": [
    {
     "name": "stdout",
     "output_type": "stream",
     "text": [
      "-36.86989764584402\n"
     ]
    }
   ],
   "source": [
    "import math\n",
    "\n",
    "# Calculate the arctangent of a value\n",
    "x = 0.5\n",
    "z = 1.5\n",
    "atan_value = -2*math.atan(x/z)\n",
    "\n",
    "atan_degrees = math.degrees(atan_value)\n",
    "\n",
    "print(atan_degrees)"
   ]
  },
  {
   "cell_type": "code",
   "execution_count": null,
   "id": "f00e98b1-5ca4-4027-8405-de21c508389b",
   "metadata": {},
   "outputs": [],
   "source": []
  }
 ],
 "metadata": {
  "kernelspec": {
   "display_name": "Python 3 (ipykernel)",
   "language": "python",
   "name": "python3"
  },
  "language_info": {
   "codemirror_mode": {
    "name": "ipython",
    "version": 3
   },
   "file_extension": ".py",
   "mimetype": "text/x-python",
   "name": "python",
   "nbconvert_exporter": "python",
   "pygments_lexer": "ipython3",
   "version": "3.10.9"
  }
 },
 "nbformat": 4,
 "nbformat_minor": 5
}
