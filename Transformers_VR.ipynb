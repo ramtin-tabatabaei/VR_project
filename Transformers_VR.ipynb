{
  "cells": [
    {
      "cell_type": "code",
      "execution_count": 1,
      "id": "22511e53-1781-4b0d-ada0-31203fb3b454",
      "metadata": {
        "id": "22511e53-1781-4b0d-ada0-31203fb3b454"
      },
      "outputs": [],
      "source": [
        "import numpy as np"
      ]
    },
    {
      "cell_type": "code",
      "execution_count": 2,
      "id": "d919ad22-670b-4033-9db0-e1464ef2fe76",
      "metadata": {
        "id": "d919ad22-670b-4033-9db0-e1464ef2fe76"
      },
      "outputs": [],
      "source": [
        "#Parameters\n",
        "tf=120\n",
        "sequence = 30\n",
        "TTP = 0.8 # Train Test Percentage \n",
        "K = 5\n",
        "epoch = 100\n",
        "early = 10\n",
        "lstm1 = 64\n",
        "lstm2 = 64\n",
        "random = 0 # on=1 off=0\n",
        "KFold = 1 # on=1 off=0"
      ]
    },
    {
      "cell_type": "code",
      "source": [
        "from google.colab import drive\n",
        "drive.mount('/content/drive')"
      ],
      "metadata": {
        "colab": {
          "base_uri": "https://localhost:8080/"
        },
        "id": "NKKTx1vKYW7G",
        "outputId": "5c83f948-9dca-4102-e8f3-a88a985267b2"
      },
      "id": "NKKTx1vKYW7G",
      "execution_count": 3,
      "outputs": [
        {
          "output_type": "stream",
          "name": "stdout",
          "text": [
            "Mounted at /content/drive\n"
          ]
        }
      ]
    },
    {
      "cell_type": "code",
      "execution_count": 4,
      "id": "e5a2b309-d795-44fc-b362-407edfd7e3fa",
      "metadata": {
        "colab": {
          "base_uri": "https://localhost:8080/"
        },
        "id": "e5a2b309-d795-44fc-b362-407edfd7e3fa",
        "outputId": "5851de2b-0a5b-4a37-8253-de15f73c1342"
      },
      "outputs": [
        {
          "output_type": "stream",
          "name": "stdout",
          "text": [
            "Number of txt files: 11\n"
          ]
        }
      ],
      "source": [
        "import os\n",
        "\n",
        "directory = r\"/content/drive/MyDrive/Paper3/Data\"\n",
        "\n",
        "# get a list of all .txt files in the directory\n",
        "txt_files = [os.path.join(directory, f) for f in os.listdir(directory) if f.endswith('.txt')]\n",
        "\n",
        "# print the number of .txt files found\n",
        "print(\"Number of txt files:\", len(txt_files))\n",
        "\n",
        "# read the contents of each .txt file and store them in an array\n",
        "Data = np.zeros((len(txt_files),50000,4))\n",
        "for file_path in txt_files:\n",
        "    for i in range(len(txt_files)):\n",
        "        data = np.loadtxt(txt_files[i], dtype=object)\n",
        "        data = [line.split(',') for line in data]\n",
        "\n",
        "        # Convert the resulting list of lists to a NumPy array with the appropriate data types\n",
        "        data = np.array(data, dtype=np.float32)\n",
        "        #data = data.astype(np.int32)\n",
        "        A = np.zeros((50000-data.shape[0], data.shape[1]))\n",
        "        Data[i] = np.concatenate((data, A))\n",
        "\n",
        "# # print the contents of the array\n",
        "# print(\"File contents:\", file_contents)"
      ]
    },
    {
      "cell_type": "code",
      "execution_count": 5,
      "id": "02f99ce9-29c2-4157-8c9d-bcd69fb5755e",
      "metadata": {
        "colab": {
          "base_uri": "https://localhost:8080/"
        },
        "id": "02f99ce9-29c2-4157-8c9d-bcd69fb5755e",
        "outputId": "7ba43ca5-14c6-472a-fb3e-0cdb95da5c26"
      },
      "outputs": [
        {
          "output_type": "stream",
          "name": "stdout",
          "text": [
            "Size:  2\n"
          ]
        }
      ],
      "source": [
        "if random ==1:\n",
        "    Frames = np.zeros((frames.shape[0],frames.shape[1],2),dtype='float') \n",
        "    A = np.array(range(12))\n",
        "    random.shuffle(A)\n",
        "    for i in range(12):\n",
        "        Frames[i] = frames[A[i]]\n",
        "    frames = Frames\n",
        "    \n",
        "    \n",
        "if KFold == 1:\n",
        "    \n",
        "    Size = round(len(txt_files)*(1-TTP))\n",
        "    print(\"Size: \",Size)\n",
        "    data_zeros = np.zeros((Data.shape[0], Data.shape[1], Data.shape[2]),dtype='float') \n",
        "    startpoint = (K-1)*Size\n",
        "    A = np.array(range(len(txt_files)))\n",
        "    for i in range(Size):\n",
        "        data_zeros[i] = Data[startpoint]\n",
        "        A = np.delete(A, Size*(K-1))\n",
        "        startpoint = startpoint + 1\n",
        "    for i in range(len(txt_files)-Size):\n",
        "        data_zeros[i+Size] = Data[A[i]]\n",
        "    Data = data_zeros"
      ]
    },
    {
      "cell_type": "code",
      "execution_count": 6,
      "id": "888b812a-cf76-4592-a1b1-ef72dfe30009",
      "metadata": {
        "id": "888b812a-cf76-4592-a1b1-ef72dfe30009"
      },
      "outputs": [],
      "source": [
        "import pandas as pd\n",
        "\n",
        "# Load the Excel file into a DataFrame\n",
        "df = pd.read_excel(r'/content/drive/MyDrive/Paper3/Properties.xlsx', sheet_name='Sheet1')\n",
        "\n",
        "# Select the values from row 3 and onwards\n",
        "Properties = df.values[1:]"
      ]
    },
    {
      "cell_type": "code",
      "execution_count": 7,
      "id": "161ba44f-9042-495b-85be-b3a447fa6baf",
      "metadata": {
        "id": "161ba44f-9042-495b-85be-b3a447fa6baf"
      },
      "outputs": [],
      "source": [
        "import numpy as np\n",
        "\n",
        "# Assume the data array is already loaded into a variable named 'data'\n",
        "\n",
        "# Find the indices where the values are \"N\" or \"F\"\n",
        "idx_n = np.where(Properties == np.array([\"N\"], dtype=str))\n",
        "idx_f = np.where(Properties == np.array([\"F\"], dtype=str))\n",
        "\n",
        "# Replace \"N\" with \"1\"\n",
        "Properties[idx_n] = 1\n",
        "\n",
        "# Replace \"F\" with \"2\"\n",
        "Properties[idx_f] = 2\n"
      ]
    },
    {
      "cell_type": "code",
      "execution_count": 8,
      "id": "ed2ae10c-103c-40a0-b19f-c53e9b7174ae",
      "metadata": {
        "id": "ed2ae10c-103c-40a0-b19f-c53e9b7174ae"
      },
      "outputs": [],
      "source": [
        "Properties = np.array(Properties)\n",
        "Properties = Properties.astype(float)"
      ]
    },
    {
      "cell_type": "code",
      "execution_count": 9,
      "id": "af0cf142-7dab-4ee7-b0b2-da163ac2e4c8",
      "metadata": {
        "id": "af0cf142-7dab-4ee7-b0b2-da163ac2e4c8"
      },
      "outputs": [],
      "source": [
        "resulotion = 0.04\n",
        "Dim = round((Properties[-1,0]-Properties[0,0])/resulotion)\n",
        "Properties_res = np.zeros((Dim, Properties.shape[1]))\n",
        "Data_res = np.zeros((len(txt_files), Dim, Data.shape[2]))\n",
        "t0 = 5\n",
        "tf = 620.8\n",
        "t = t0\n",
        "Data_inter = np.zeros(len(txt_files),dtype=\"int\")\n",
        "Properties_inter = 0\n",
        "#for j in range(len(txt_files)):\n",
        "for j in range(1):\n",
        "    for i in range(Data[j].shape[0]):\n",
        "        if Data[j,i,0] >= t0:\n",
        "            Data_inter[j] = i - 1\n",
        "            break\n",
        "for i in range(Dim):\n",
        "    Properties_res[i] = Properties[Properties_inter]\n",
        "    Properties_res[i,0] = t\n",
        "    if t >= Properties[Properties_inter+1,0]:\n",
        "        Properties_inter += 1\n",
        "    for j in range(len(txt_files)):\n",
        "        if Data[j,Data_inter[j]+2,0]==0:\n",
        "            continue\n",
        "        Data_res[j,i] = Data[j, Data_inter[j]]\n",
        "        Data_res[j,i,0] = t\n",
        "        while True:\n",
        "            if t >= Data[j, Data_inter[j] + 1,0]:\n",
        "                Data_inter[j] += 1\n",
        "            else:\n",
        "                break\n",
        "    \n",
        "    t += resulotion"
      ]
    },
    {
      "cell_type": "code",
      "execution_count": 10,
      "id": "ba492aed-8466-44e4-8044-1f70123c452b",
      "metadata": {
        "id": "ba492aed-8466-44e4-8044-1f70123c452b"
      },
      "outputs": [],
      "source": [
        "# Number 1\n",
        "XBminN1 = 120 #X Body min Near\n",
        "XBmaxN1 = 160 #X Body max Near\n",
        "\n",
        "XBminF1 = 150 #X Body min Far\n",
        "XBmaxF1 = 170 #X Body max Far\n",
        "\n",
        "\n",
        "# Number 2\n",
        "XBminN2 = 160 #X Body min Near\n",
        "XBmaxN2 = 195 #X Body max Near\n",
        "\n",
        "XBminF2 = 170 #X Body min Far\n",
        "XBmaxF2 = 190 #X Body max Far\n",
        "\n",
        "\n",
        "# Number 3\n",
        "XBminN3 = 195 #X Body min Near\n",
        "XBmaxN3 = 230 #X Body max Near\n",
        "\n",
        "XBminF3 = 190 #X Body min Far\n",
        "XBmaxF3 = 220 #X Body max Far\n"
      ]
    },
    {
      "cell_type": "code",
      "execution_count": 11,
      "id": "da603ec5-6753-438c-b152-b093fabee43d",
      "metadata": {
        "id": "da603ec5-6753-438c-b152-b093fabee43d"
      },
      "outputs": [],
      "source": [
        "Model_data = np.zeros((Data_res.shape[0]*Data_res.shape[1],Properties_res.shape[1]))\n",
        "Model_label = np.zeros((Data_res.shape[0]*Data_res.shape[1]), dtype=\"O\")\n",
        "inter = 0\n",
        "for z in range(Data_res.shape[0]):\n",
        "    for j in range(Data_res.shape[1]):\n",
        "        if Data_res[z,j,0] == 0:\n",
        "            continue\n",
        "        Model_data[inter] = Properties_res[j]\n",
        "        Model_label[inter] = \"No Data\"\n",
        "\n",
        "        P = 0 # number of person 1\n",
        "        if Properties_res[j,6*P+1] == 1: #if the person is present\n",
        "            if Properties_res[j,6*P+2] == 1: #if the person is Near or Far\n",
        "                if Properties_res[j,6*P+3] != 7: #if the person is stationary or Entering or Leaving\n",
        "                    if XBminN1<Data_res[z,j,2]<XBmaxN1: #Body\n",
        "                        Model_label[inter] = \"Number 1\"\n",
        "                            \n",
        "                elif Properties_res[j,6*P+3] == 7:  #if the person is stationary or moving\n",
        "                    if 100<Data_res[z,j,2]<XBmaxN1: #Body\n",
        "                        Model_label[inter] = \"Number 1\"\n",
        "\n",
        "                        \n",
        "            elif Properties_res[j,6*P+2] == 2: #if the person is Near or Far\n",
        "                if Properties_res[j,6*P+3] != 7: #if the person is stationary or Entering or Leaving\n",
        "                    if XBminF1<Data_res[z,j,2]<XBmaxF1: #Body\n",
        "                        Model_label[inter] = \"Number 1\"\n",
        "\n",
        "                elif Properties_res[j,6*P+3] == 7:  #if the person is stationary or moving\n",
        "                    if 100<Data_res[z,j,2]<XBmaxN1: #Body\n",
        "                        Model_label[inter] = \"Number 1\"\n",
        "\n",
        "\n",
        "        P = 1 # number of person 2\n",
        "        if Properties_res[j,6*P+1] == 1: #if the person is present\n",
        "            if Properties_res[j,6*P+2] == 1: #if the person is Near or Far\n",
        "                if Properties_res[j,6*P+3] != 7: #if the person is stationary or Entering or Leaving\n",
        "                    if XBminN2<Data_res[z,j,2]<XBmaxN2: #Body\n",
        "                        Model_label[inter] = \"Number 2\"\n",
        "                            \n",
        "                elif Properties_res[j,6*P+3] == 7:  #if the person is stationary or moving\n",
        "                    if Properties_res[j,6*P+6] <=0:  #if the person is leaving or entering from left side\n",
        "                        if 100<Data_res[z,j,2]<180: #Body\n",
        "                            Model_label[inter] = \"Number 2\"\n",
        "                    elif Properties_res[j,6*P+6] >=0:  #if the person is leaving or entering from left side\n",
        "                        if 180<Data_res[z,j,2]<250: #Body\n",
        "                            Model_label[inter] = \"Number 2\"\n",
        "                            \n",
        "\n",
        "            elif Properties_res[j,6*P+2] == 2: #if the person is Near or Far\n",
        "                if Properties_res[j,6*P+3] != 7: #if the person is stationary or Entering or Leaving\n",
        "                    if XBminF2<Data_res[z,j,2]<XBmaxF2: #Body\n",
        "                        Model_label[inter] = \"Number 2\"\n",
        "\n",
        "                            \n",
        "                elif Properties_res[j,6*P+3] == 7:  #if the person is stationary or moving\n",
        "                    if Properties_res[j,6*P+6] <=0:  #if the person is leaving or entering from left side\n",
        "                        if 100<Data_res[z,j,2]<180: #Body\n",
        "                            Model_label[inter] = \"Number 2\"\n",
        "                    elif Properties_res[j,6*P+6] >=0:  #if the person is leaving or entering from left side\n",
        "                        if 180<Data_res[z,j,2]<250: #Body\n",
        "                            Model_label[inter] = \"Number 2\"\n",
        "                            \n",
        "\n",
        "        P = 2 # number of person 3\n",
        "        if Properties_res[j,6*P+1] == 1: #if the person is present\n",
        "            if Properties_res[j,6*P+2] == 1: #if the person is Near or Far\n",
        "                if Properties_res[j,6*P+3] != 7: #if the person is stationary or Entering or Leaving\n",
        "                    if XBminN3<Data_res[z,j,2]<XBmaxN3: #Body\n",
        "                        Model_label[inter] = \"Number 3\"\n",
        "                            \n",
        "                elif Properties_res[j,6*P+3] == 7:  #if the person is stationary or moving\n",
        "                    if XBminN3<Data_res[z,j,2]<250: #Body\n",
        "                        Model_label[inter] = \"Number 3\"\n",
        "\n",
        "            elif Properties_res[j,6*P+2] == 2: #if the person is Near or Far\n",
        "                if Properties_res[j,6*P+3] != 7: #if the person is stationary or Entering or Leaving\n",
        "                    if XBminF3<Data_res[z,j,2]<XBmaxF3: #Body\n",
        "                        Model_label[inter] = \"Number 3\"\n",
        "                        \n",
        "                elif Properties_res[j,6*P+3] == 7:  #if the person is stationary or moving\n",
        "                        if XBminF3<Data_res[z,j,2]<250: #Body\n",
        "                            Model_label[inter] = \"Number 3\"\n",
        "        inter +=1"
      ]
    },
    {
      "cell_type": "code",
      "execution_count": 12,
      "id": "b80eba4f-7d60-43a3-af0b-37ec397c38d1",
      "metadata": {
        "id": "b80eba4f-7d60-43a3-af0b-37ec397c38d1"
      },
      "outputs": [],
      "source": [
        "Model_data = np.array(Model_data[0:inter])\n",
        "Model_label = np.array(Model_label[0:inter])"
      ]
    },
    {
      "cell_type": "code",
      "execution_count": 13,
      "id": "2d1e033a-1e96-409c-a3e1-931b71eed39c",
      "metadata": {
        "colab": {
          "base_uri": "https://localhost:8080/"
        },
        "id": "2d1e033a-1e96-409c-a3e1-931b71eed39c",
        "outputId": "0528e851-350b-4eff-cac7-bc81258c535d"
      },
      "outputs": [
        {
          "output_type": "execute_result",
          "data": {
            "text/plain": [
              "(164061, 19)"
            ]
          },
          "metadata": {},
          "execution_count": 13
        }
      ],
      "source": [
        "Model_data.shape"
      ]
    },
    {
      "cell_type": "code",
      "execution_count": 14,
      "id": "0ad3c4f3-2735-43d6-b2a2-0082814fa13d",
      "metadata": {
        "id": "0ad3c4f3-2735-43d6-b2a2-0082814fa13d"
      },
      "outputs": [],
      "source": [
        "from sklearn.preprocessing import StandardScaler\n",
        "\n",
        "scaler = StandardScaler()\n",
        "scaler = scaler.fit(Model_data)\n",
        "Model_data_normal = scaler.transform(Model_data)  #scale the data\n",
        "\n",
        "Model_data_normal = np.delete(Model_data_normal, [0,1,7,13], axis=1)"
      ]
    },
    {
      "cell_type": "code",
      "execution_count": 15,
      "id": "f9b79775-98d7-41e2-bfdc-074707eb067b",
      "metadata": {
        "id": "f9b79775-98d7-41e2-bfdc-074707eb067b"
      },
      "outputs": [],
      "source": [
        "def Labell(String):\n",
        "    if String == \"Number 1\":\n",
        "        return 0\n",
        "    elif String == \"Number 2\":\n",
        "        return 1\n",
        "    elif String == \"Number 3\":\n",
        "        return 2"
      ]
    },
    {
      "cell_type": "code",
      "execution_count": 16,
      "id": "ef641898-5a96-44aa-a6a4-bf337368b7ad",
      "metadata": {
        "id": "ef641898-5a96-44aa-a6a4-bf337368b7ad"
      },
      "outputs": [],
      "source": [
        "# Model_data_normal_sequence = np.zeros((Model_data_normal.shape[0]-sequence+1,sequence,Model_data_normal.shape[1]),dtype='float')\n",
        "# for i in range(Model_data_normal_sequence.shape[0]):\n",
        "#     for j in range(sequence):\n",
        "#         Model_data_normal_sequence[i,j] = Model_data_normal[i+j]\n",
        "        \n",
        "# Model_data_normal_sequence = np.delete(Model_data_normal_sequence, -1, axis = 0)"
      ]
    },
    {
      "cell_type": "code",
      "execution_count": 17,
      "id": "499c5e1a-9d33-4a97-a22e-6513c9b04581",
      "metadata": {
        "id": "499c5e1a-9d33-4a97-a22e-6513c9b04581"
      },
      "outputs": [],
      "source": [
        "Model_data_normal_sequence = np.zeros((Model_data_normal.shape[0],sequence,Model_data_normal.shape[1]),dtype='float')\n",
        "Model_label_sequence = np.zeros((Model_data_normal.shape[0],1),dtype='int')\n",
        "inter = 0\n",
        "Persons_inter = np.zeros(len(txt_files))\n",
        "inter2 = 0\n",
        "for i in range(Model_data_normal_sequence.shape[0]-sequence):\n",
        "    if Model_data[i, 0] == 5:\n",
        "        Persons_inter[inter2] = inter\n",
        "        inter2 += 1\n",
        "    if Model_label[i+sequence] != \"No Data\" and (Model_data[i+sequence, 0] - Model_data[i, 0]) > 0:\n",
        "        Model_label_sequence[inter] = Labell(Model_label[i+sequence])\n",
        "        for j in range(sequence):\n",
        "            Model_data_normal_sequence[inter,j] = Model_data_normal[i+j]\n",
        "        inter += 1\n",
        "        \n",
        "Model_data_normal_sequence = np.array(Model_data_normal_sequence[0:inter])\n",
        "Model_label_sequence = np.array(Model_label_sequence[0:inter])"
      ]
    },
    {
      "cell_type": "code",
      "execution_count": 18,
      "id": "fe8d8353-5505-403e-a423-af444f33ac0f",
      "metadata": {
        "colab": {
          "base_uri": "https://localhost:8080/"
        },
        "id": "fe8d8353-5505-403e-a423-af444f33ac0f",
        "outputId": "ca7959ef-af3d-402e-976a-24ab11e8d38b"
      },
      "outputs": [
        {
          "output_type": "execute_result",
          "data": {
            "text/plain": [
              "array([     0.,  14980.,  23535.,  38604.,  51505.,  66447.,  80448.,\n",
              "        94827., 109418., 122581., 135243.])"
            ]
          },
          "metadata": {},
          "execution_count": 18
        }
      ],
      "source": [
        "Persons_inter"
      ]
    },
    {
      "cell_type": "code",
      "execution_count": 19,
      "id": "af8b3e77-bba3-4d56-8be5-7f6cd9b9a0d5",
      "metadata": {
        "colab": {
          "base_uri": "https://localhost:8080/"
        },
        "id": "af8b3e77-bba3-4d56-8be5-7f6cd9b9a0d5",
        "outputId": "98ee2259-4108-44c8-f2c3-cda2a3232332"
      },
      "outputs": [
        {
          "output_type": "execute_result",
          "data": {
            "text/plain": [
              "(150151, 30, 15)"
            ]
          },
          "metadata": {},
          "execution_count": 19
        }
      ],
      "source": [
        "Model_data_normal_sequence.shape"
      ]
    },
    {
      "cell_type": "code",
      "execution_count": 20,
      "id": "98e3a272-ff26-4546-837f-475d6ca48fd1",
      "metadata": {
        "id": "98e3a272-ff26-4546-837f-475d6ca48fd1"
      },
      "outputs": [],
      "source": [
        "train_data = np.array(Model_data_normal_sequence[int(Persons_inter[Size]):Model_data_normal_sequence.shape[0]])\n",
        "train_label = np.array(Model_label_sequence[int(Persons_inter[Size]):Model_label_sequence.shape[0]])\n",
        "test_data = np.array(Model_data_normal_sequence[0:int(Persons_inter[Size])])\n",
        "test_label = np.array(Model_label_sequence[0:int(Persons_inter[Size])])"
      ]
    },
    {
      "cell_type": "code",
      "execution_count": 21,
      "id": "b9aa04f3-1d57-4295-bfe3-d5f52900198e",
      "metadata": {
        "colab": {
          "base_uri": "https://localhost:8080/"
        },
        "id": "b9aa04f3-1d57-4295-bfe3-d5f52900198e",
        "outputId": "cad18f3f-ffd0-48a6-bdf0-ad9fe2fdc955"
      },
      "outputs": [
        {
          "output_type": "stream",
          "name": "stdout",
          "text": [
            "train_data: (126616, 30, 15)\n",
            "train_label: (126616, 1)\n",
            "test_data: (23535, 30, 15)\n",
            "test_label: (23535, 1)\n"
          ]
        }
      ],
      "source": [
        "print(\"train_data:\",train_data.shape)\n",
        "print(\"train_label:\",train_label.shape)\n",
        "print(\"test_data:\",test_data.shape)\n",
        "print(\"test_label:\",test_label.shape)"
      ]
    },
    {
      "cell_type": "code",
      "execution_count": 22,
      "id": "49818b38-8a43-4956-a61d-2b68cab69f73",
      "metadata": {
        "id": "49818b38-8a43-4956-a61d-2b68cab69f73"
      },
      "outputs": [],
      "source": [
        "from tensorflow.keras.utils import to_categorical\n",
        "\n",
        "#X_train = train_data.reshape(train_data.shape[0],sequence, -1)\n",
        "one_hot_encoded_labels_train = to_categorical(train_label)\n",
        "\n",
        "#X_test = test_data.reshape(test_data.shape[0],sequence, -1)\n",
        "one_hot_encoded_labels_test = to_categorical(test_label)"
      ]
    },
    {
      "cell_type": "code",
      "execution_count": 23,
      "id": "807c72ac-4103-488c-911f-48b1e1e4faaf",
      "metadata": {
        "id": "807c72ac-4103-488c-911f-48b1e1e4faaf"
      },
      "outputs": [],
      "source": [
        "import tensorflow as tf\n",
        "class PositionalEmbedding(tf.keras.layers.Layer):\n",
        "    def __init__(self, sequence_length, output_dim, **kwargs):\n",
        "        super().__init__(**kwargs)\n",
        "        self.position_embeddings = tf.keras.layers.Embedding(\n",
        "            input_dim=sequence_length, output_dim=output_dim\n",
        "        )\n",
        "        self.sequence_length = sequence_length\n",
        "        self.output_dim = output_dim\n",
        "\n",
        "    def call(self, inputs):\n",
        "        # The inputs are of shape: `(batch_size, frames, num_features)`\n",
        "        length = tf.shape(inputs)[1]\n",
        "        positions = tf.range(start=0, limit=length, delta=1)\n",
        "        embedded_positions = self.position_embeddings(positions)\n",
        "        return inputs + embedded_positions\n",
        "\n",
        "    def compute_mask(self, inputs, mask=None):\n",
        "        mask = tf.reduce_any(tf.cast(inputs, \"bool\"), axis=-1)\n",
        "        return mask"
      ]
    },
    {
      "cell_type": "code",
      "source": [
        "class TransformerEncoder(tf.keras.layers.Layer):\n",
        "    def __init__(self, embed_dim, dense_dim, num_heads, **kwargs):\n",
        "        super().__init__(**kwargs)\n",
        "        self.embed_dim = embed_dim\n",
        "        self.dense_dim = dense_dim\n",
        "        self.num_heads = num_heads\n",
        "        self.attention = tf.keras.layers.MultiHeadAttention(\n",
        "            num_heads=num_heads, key_dim=embed_dim\n",
        "        )\n",
        "        self.dense_proj = tf.keras.Sequential(\n",
        "            [tf.keras.layers.Dense(dense_dim, activation='swish'),tf.keras.layers.Dense(embed_dim, activation='swish')]\n",
        "        )\n",
        "        self.layernorm_1 = tf.keras.layers.LayerNormalization()\n",
        "        self.layernorm_2 = tf.keras.layers.LayerNormalization()\n",
        "\n",
        "    def call(self, inputs, mask=None):\n",
        "        if mask is not None:\n",
        "            mask = mask[:, tf.newaxis, :]\n",
        "\n",
        "        attention_output = self.attention(inputs, inputs, attention_mask=mask)\n",
        "        proj_input = self.layernorm_1(inputs + attention_output)\n",
        "        proj_output = self.dense_proj(proj_input)\n",
        "        return self.layernorm_2(proj_input + proj_output)"
      ],
      "metadata": {
        "id": "qptdfuPBhiF6"
      },
      "id": "qptdfuPBhiF6",
      "execution_count": 24,
      "outputs": []
    },
    {
      "cell_type": "code",
      "source": [
        "def get_compiled_model():\n",
        "    MAX_SEQ_LENGTH = sequence\n",
        "    NUM_FEATURES = train_data.shape[2]\n",
        "    classes = one_hot_encoded_labels_train.shape[1]\n",
        "    sequence_length = MAX_SEQ_LENGTH\n",
        "    embed_dim = NUM_FEATURES\n",
        "    dense_dim = 1024\n",
        "    num_heads = 2\n",
        "    #classes = len(set(Label))\n",
        "    \n",
        "    inputs = tf.keras.Input(shape=(None, None))\n",
        "    x = PositionalEmbedding(\n",
        "        sequence_length, NUM_FEATURES, name=\"frame_position_embedding\"\n",
        "    )(inputs)\n",
        "    x = TransformerEncoder(NUM_FEATURES, dense_dim, num_heads, name=\"transformer_layer\")(x)\n",
        "    x = tf.keras.layers.Add()([inputs,x])\n",
        "    x = tf.keras.layers.GlobalMaxPooling1D()(x)\n",
        "#    x = tf.keras.layers.Dropout(0.2)(x)\n",
        "#    x=tf.keras.layers.Dense(16,activation='swish')(x)\n",
        "#     x=tf.keras.layers.Dense(16,activation='swish')(x)\n",
        "#     x=tf.keras.layers.Dense(16,activation='swish')(x)\n",
        "\n",
        "    outputs = tf.keras.layers.Dense(classes, activation=\"softmax\")(x)\n",
        "    model = tf.keras.Model(inputs, outputs)\n",
        "\n",
        "    model.compile(\n",
        "        optimizer=\"adam\", loss=\"categorical_crossentropy\", metrics=[\"categorical_accuracy\"]\n",
        "    )\n",
        "    return model"
      ],
      "metadata": {
        "id": "1hSXvAJWhlDc"
      },
      "id": "1hSXvAJWhlDc",
      "execution_count": 25,
      "outputs": []
    },
    {
      "cell_type": "code",
      "source": [
        "from tensorflow.keras.callbacks import EarlyStopping\n",
        "\n",
        "early_stopping_callback = EarlyStopping(monitor = 'val_accuracy', patience = early, mode = 'max', restore_best_weights = True)\n",
        "import keras\n",
        "from tensorflow import keras\n",
        "from tensorflow.keras import optimizers\n",
        "from tensorflow.keras.optimizers import schedules\n",
        "model = get_compiled_model()\n",
        "model.summary(\n",
        "    line_length=None,\n",
        "    positions=None,\n",
        "    print_fn=None,\n",
        "    expand_nested=False,\n",
        "    show_trainable=False,\n",
        "    layer_range=None,\n",
        ")\n",
        "model.compile(loss = 'categorical_crossentropy', optimizer = 'Adam', metrics = [\"accuracy\"])\n",
        "\n",
        "model_training_history = model.fit(x = train_data, y = one_hot_encoded_labels_train, epochs = epoch , batch_size = 20,\n",
        "                                                   shuffle = True, validation_data=(test_data, one_hot_encoded_labels_test),\n",
        "                                                   callbacks = [early_stopping_callback])\n",
        "\n"
      ],
      "metadata": {
        "colab": {
          "base_uri": "https://localhost:8080/"
        },
        "id": "buAzyAnFhuTz",
        "outputId": "d3cfb788-e65e-4744-c984-e882c3eb40f3"
      },
      "id": "buAzyAnFhuTz",
      "execution_count": 26,
      "outputs": [
        {
          "output_type": "stream",
          "name": "stdout",
          "text": [
            "Model: \"model\"\n",
            "__________________________________________________________________________________________________\n",
            " Layer (type)                   Output Shape         Param #     Connected to                     \n",
            "==================================================================================================\n",
            " input_1 (InputLayer)           [(None, None, None)  0           []                               \n",
            "                                ]                                                                 \n",
            "                                                                                                  \n",
            " frame_position_embedding (Posi  (None, None, 15)    450         ['input_1[0][0]']                \n",
            " tionalEmbedding)                                                                                 \n",
            "                                                                                                  \n",
            " transformer_layer (Transformer  (None, None, 15)    33724       ['frame_position_embedding[0][0]'\n",
            " Encoder)                                                        ]                                \n",
            "                                                                                                  \n",
            " add (Add)                      (None, None, 15)     0           ['input_1[0][0]',                \n",
            "                                                                  'transformer_layer[0][0]']      \n",
            "                                                                                                  \n",
            " global_max_pooling1d (GlobalMa  (None, 15)          0           ['add[0][0]']                    \n",
            " xPooling1D)                                                                                      \n",
            "                                                                                                  \n",
            " dense_2 (Dense)                (None, 3)            48          ['global_max_pooling1d[0][0]']   \n",
            "                                                                                                  \n",
            "==================================================================================================\n",
            "Total params: 34,222\n",
            "Trainable params: 34,222\n",
            "Non-trainable params: 0\n",
            "__________________________________________________________________________________________________\n",
            "Epoch 1/100\n",
            "6331/6331 [==============================] - 63s 9ms/step - loss: 0.6653 - accuracy: 0.6959 - val_loss: 0.5734 - val_accuracy: 0.7340\n",
            "Epoch 2/100\n",
            "6331/6331 [==============================] - 53s 8ms/step - loss: 0.6048 - accuracy: 0.7205 - val_loss: 0.5493 - val_accuracy: 0.7570\n",
            "Epoch 3/100\n",
            "6331/6331 [==============================] - 52s 8ms/step - loss: 0.5943 - accuracy: 0.7229 - val_loss: 0.5588 - val_accuracy: 0.7585\n",
            "Epoch 4/100\n",
            "6331/6331 [==============================] - 54s 9ms/step - loss: 0.5881 - accuracy: 0.7259 - val_loss: 0.5543 - val_accuracy: 0.7569\n",
            "Epoch 5/100\n",
            "6331/6331 [==============================] - 54s 9ms/step - loss: 0.5841 - accuracy: 0.7275 - val_loss: 0.5450 - val_accuracy: 0.7662\n",
            "Epoch 6/100\n",
            "6331/6331 [==============================] - 53s 8ms/step - loss: 0.5819 - accuracy: 0.7283 - val_loss: 0.5406 - val_accuracy: 0.7726\n",
            "Epoch 7/100\n",
            "6331/6331 [==============================] - 52s 8ms/step - loss: 0.5796 - accuracy: 0.7300 - val_loss: 0.5482 - val_accuracy: 0.7639\n",
            "Epoch 8/100\n",
            "6331/6331 [==============================] - 51s 8ms/step - loss: 0.5790 - accuracy: 0.7294 - val_loss: 0.5315 - val_accuracy: 0.7734\n",
            "Epoch 9/100\n",
            "6331/6331 [==============================] - 53s 8ms/step - loss: 0.5773 - accuracy: 0.7302 - val_loss: 0.5420 - val_accuracy: 0.7644\n",
            "Epoch 10/100\n",
            "6331/6331 [==============================] - 52s 8ms/step - loss: 0.5759 - accuracy: 0.7308 - val_loss: 0.5325 - val_accuracy: 0.7774\n",
            "Epoch 11/100\n",
            "6331/6331 [==============================] - 54s 8ms/step - loss: 0.5747 - accuracy: 0.7297 - val_loss: 0.5458 - val_accuracy: 0.7712\n",
            "Epoch 12/100\n",
            "6331/6331 [==============================] - 54s 8ms/step - loss: 0.5741 - accuracy: 0.7307 - val_loss: 0.5479 - val_accuracy: 0.7585\n",
            "Epoch 13/100\n",
            "6331/6331 [==============================] - 52s 8ms/step - loss: 0.5739 - accuracy: 0.7313 - val_loss: 0.5561 - val_accuracy: 0.7522\n",
            "Epoch 14/100\n",
            "6331/6331 [==============================] - 54s 8ms/step - loss: 0.5739 - accuracy: 0.7309 - val_loss: 0.5401 - val_accuracy: 0.7760\n",
            "Epoch 15/100\n",
            "6331/6331 [==============================] - 55s 9ms/step - loss: 0.5724 - accuracy: 0.7311 - val_loss: 0.5366 - val_accuracy: 0.7827\n",
            "Epoch 16/100\n",
            "6331/6331 [==============================] - 54s 8ms/step - loss: 0.5722 - accuracy: 0.7312 - val_loss: 0.5494 - val_accuracy: 0.7561\n",
            "Epoch 17/100\n",
            "6331/6331 [==============================] - 54s 9ms/step - loss: 0.5717 - accuracy: 0.7317 - val_loss: 0.5285 - val_accuracy: 0.7678\n",
            "Epoch 18/100\n",
            "6331/6331 [==============================] - 53s 8ms/step - loss: 0.5707 - accuracy: 0.7313 - val_loss: 0.5419 - val_accuracy: 0.7722\n",
            "Epoch 19/100\n",
            "6331/6331 [==============================] - 55s 9ms/step - loss: 0.5704 - accuracy: 0.7317 - val_loss: 0.5401 - val_accuracy: 0.7693\n",
            "Epoch 20/100\n",
            "6331/6331 [==============================] - 52s 8ms/step - loss: 0.5703 - accuracy: 0.7328 - val_loss: 0.5420 - val_accuracy: 0.7669\n",
            "Epoch 21/100\n",
            "6331/6331 [==============================] - 55s 9ms/step - loss: 0.5701 - accuracy: 0.7329 - val_loss: 0.5410 - val_accuracy: 0.7629\n",
            "Epoch 22/100\n",
            "6331/6331 [==============================] - 54s 9ms/step - loss: 0.5705 - accuracy: 0.7324 - val_loss: 0.5525 - val_accuracy: 0.7584\n",
            "Epoch 23/100\n",
            "6331/6331 [==============================] - 54s 9ms/step - loss: 0.5693 - accuracy: 0.7329 - val_loss: 0.5453 - val_accuracy: 0.7810\n",
            "Epoch 24/100\n",
            "6331/6331 [==============================] - 52s 8ms/step - loss: 0.5694 - accuracy: 0.7326 - val_loss: 0.5418 - val_accuracy: 0.7675\n",
            "Epoch 25/100\n",
            "6331/6331 [==============================] - 52s 8ms/step - loss: 0.5688 - accuracy: 0.7328 - val_loss: 0.5446 - val_accuracy: 0.7654\n"
          ]
        }
      ]
    },
    {
      "cell_type": "code",
      "execution_count": 27,
      "id": "d3c9f742-a2e6-454c-b95e-ea6cfddca577",
      "metadata": {
        "id": "d3c9f742-a2e6-454c-b95e-ea6cfddca577",
        "colab": {
          "base_uri": "https://localhost:8080/"
        },
        "outputId": "51b074c2-f733-4d34-fed2-6628aa4a4f9a"
      },
      "outputs": [
        {
          "output_type": "stream",
          "name": "stdout",
          "text": [
            "3957/3957 [==============================] - 14s 4ms/step\n",
            "736/736 [==============================] - 3s 3ms/step\n"
          ]
        }
      ],
      "source": [
        "y_pred_train = model.predict(train_data)\n",
        "y_pred_test = model.predict(test_data)"
      ]
    },
    {
      "cell_type": "code",
      "execution_count": null,
      "id": "aa00c41b-1b94-4726-9cb7-96a465fbc864",
      "metadata": {
        "id": "aa00c41b-1b94-4726-9cb7-96a465fbc864"
      },
      "outputs": [],
      "source": [
        "def accuracymodel1(y_pred,train_label):\n",
        "    SumCorrect = 0\n",
        "    for i in range(y_pred.shape[0]):\n",
        "        a = np.array(y_pred[i])\n",
        "        a = a.argmax()\n",
        "        if a==train_label[i,0]:\n",
        "            SumCorrect = SumCorrect + 1\n",
        "    return SumCorrect/y_pred.shape[0]"
      ]
    },
    {
      "cell_type": "code",
      "execution_count": 29,
      "id": "ff19438f-68e1-4e9a-b88f-3a117935a5c9",
      "metadata": {
        "id": "ff19438f-68e1-4e9a-b88f-3a117935a5c9",
        "colab": {
          "base_uri": "https://localhost:8080/"
        },
        "outputId": "f711b6b7-71fe-4b07-fae1-07b328ce5e11"
      },
      "outputs": [
        {
          "output_type": "execute_result",
          "data": {
            "text/plain": [
              "0.7827490970894413"
            ]
          },
          "metadata": {},
          "execution_count": 29
        }
      ],
      "source": [
        "accuracymodel1(y_pred_train,train_label)\n",
        "accuracymodel1(y_pred_test,test_label)"
      ]
    },
    {
      "cell_type": "code",
      "execution_count": 30,
      "id": "2e0b84b4-deb7-4f2f-a7ca-c3eb915fccc0",
      "metadata": {
        "id": "2e0b84b4-deb7-4f2f-a7ca-c3eb915fccc0"
      },
      "outputs": [],
      "source": [
        "def accuracymodel2(y_pred,train_label):\n",
        "    SumCorrect = 0\n",
        "    for i in range(y_pred.shape[0]):\n",
        "        a = np.array(y_pred[i])\n",
        "        b = np.array(y_pred[i])\n",
        "        a = a.argmax()\n",
        "        b[a] = 0\n",
        "        b = b.argmax()\n",
        "        \n",
        "        if a==train_label[i,0] or b==train_label[i,0]:\n",
        "            SumCorrect = SumCorrect + 1\n",
        "    return SumCorrect/y_pred.shape[0]"
      ]
    },
    {
      "cell_type": "code",
      "execution_count": 31,
      "id": "942eee0b-daa1-423f-858c-bfaf1d90e6bc",
      "metadata": {
        "id": "942eee0b-daa1-423f-858c-bfaf1d90e6bc",
        "colab": {
          "base_uri": "https://localhost:8080/"
        },
        "outputId": "dddb8518-d7d0-4c49-fec7-576260303dec"
      },
      "outputs": [
        {
          "output_type": "execute_result",
          "data": {
            "text/plain": [
              "0.9708944125770129"
            ]
          },
          "metadata": {},
          "execution_count": 31
        }
      ],
      "source": [
        "accuracymodel2(y_pred_train,train_label)\n",
        "accuracymodel2(y_pred_test,test_label)"
      ]
    },
    {
      "cell_type": "code",
      "execution_count": 32,
      "id": "120d943b-ad8a-4673-a4cf-40aeb131690d",
      "metadata": {
        "id": "120d943b-ad8a-4673-a4cf-40aeb131690d"
      },
      "outputs": [],
      "source": [
        "def accuracymodel3(y_pred,train_label):\n",
        "    SumCorrect = 0\n",
        "    for i in range(y_pred.shape[0]):\n",
        "        a = np.array(y_pred[i])\n",
        "        b = np.array(y_pred[i])\n",
        "        c = np.array(y_pred[i])\n",
        "        a = a.argmax()\n",
        "        b[a] = 0\n",
        "        b = b.argmax()\n",
        "        c[a] = 0\n",
        "        c[b] = 0\n",
        "        c = c.argmax()\n",
        "        \n",
        "        if a==train_label[i,0] or b==train_label[i,0] or c==train_label[i,0]:\n",
        "            SumCorrect = SumCorrect + 1\n",
        "    return SumCorrect/y_pred.shape[0]"
      ]
    },
    {
      "cell_type": "code",
      "execution_count": 33,
      "id": "4c157b25-c290-4d5b-9f3e-f8714bd92fb6",
      "metadata": {
        "id": "4c157b25-c290-4d5b-9f3e-f8714bd92fb6",
        "colab": {
          "base_uri": "https://localhost:8080/"
        },
        "outputId": "fd96524c-ea7d-4175-ea18-be5a7569d34a"
      },
      "outputs": [
        {
          "output_type": "execute_result",
          "data": {
            "text/plain": [
              "1.0"
            ]
          },
          "metadata": {},
          "execution_count": 33
        }
      ],
      "source": [
        "accuracymodel3(y_pred_train,train_label)\n",
        "accuracymodel3(y_pred_test,test_label)"
      ]
    },
    {
      "cell_type": "code",
      "execution_count": 34,
      "id": "0ac07b89-e94d-4253-b808-dded573b52b3",
      "metadata": {
        "id": "0ac07b89-e94d-4253-b808-dded573b52b3",
        "colab": {
          "base_uri": "https://localhost:8080/"
        },
        "outputId": "240a15e9-3966-43d9-d75d-1b551293fde9"
      },
      "outputs": [
        {
          "output_type": "stream",
          "name": "stdout",
          "text": [
            "[[0.73427529 0.96153725 1.        ]\n",
            " [0.7827491  0.97089441 1.        ]]\n"
          ]
        }
      ],
      "source": [
        "A = np.array([[accuracymodel1(y_pred_train,train_label), accuracymodel2(y_pred_train,train_label),accuracymodel3(y_pred_train,train_label)],\n",
        "             [accuracymodel1(y_pred_test,test_label), accuracymodel2(y_pred_test,test_label),accuracymodel3(y_pred_test,test_label)]])\n",
        "print(A)\n",
        "Name = \"Transformers-K\"+str(K)+\"-TTP\"+str(TTP)+\"-sequence\" +str(sequence)\n",
        "np.savetxt(r\"/content/drive/MyDrive/Paper3/results\"+\"/\"+Name+'.csv', A, delimiter=',')   # X is an array\n",
        "model.save(r\"/content/drive/MyDrive/Paper3/results\"+\"/\"+Name+'.h5')  # creates a HDF5 file 'my_model.h5'"
      ]
    },
    {
      "cell_type": "code",
      "execution_count": 34,
      "id": "4a9934cf-3fa0-4f0a-9b6e-23e9d839fe13",
      "metadata": {
        "id": "4a9934cf-3fa0-4f0a-9b6e-23e9d839fe13"
      },
      "outputs": [],
      "source": []
    }
  ],
  "metadata": {
    "kernelspec": {
      "display_name": "Python 3 (ipykernel)",
      "language": "python",
      "name": "python3"
    },
    "language_info": {
      "codemirror_mode": {
        "name": "ipython",
        "version": 3
      },
      "file_extension": ".py",
      "mimetype": "text/x-python",
      "name": "python",
      "nbconvert_exporter": "python",
      "pygments_lexer": "ipython3",
      "version": "3.10.9"
    },
    "colab": {
      "provenance": [],
      "gpuType": "T4"
    },
    "accelerator": "GPU",
    "gpuClass": "standard"
  },
  "nbformat": 4,
  "nbformat_minor": 5
}